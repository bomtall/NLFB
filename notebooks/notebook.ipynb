{
 "cells": [
  {
   "cell_type": "code",
   "execution_count": 28,
   "metadata": {},
   "outputs": [],
   "source": [
    "import os\n",
    "import sys\n",
    "import toml\n",
    "import json\n",
    "import millify\n",
    "import gspread\n",
    "import requests\n",
    "import calendar\n",
    "import plotly.express as px\n",
    "import numpy as np\n",
    "import pandas as pd\n",
    "import polars as pl\n",
    "import datetime as dt\n",
    "import streamlit as st\n",
    "from pathlib import Path\n",
    "from millify import prettify\n",
    "from lxml.html import fromstring\n",
    "from streamlit_gsheets import GSheetsConnection\n",
    "from google.oauth2.service_account import Credentials\n",
    "from oauth2client.service_account import ServiceAccountCredentials\n",
    "import scipy\n",
    "\n",
    "sys.path.insert(0, str(Path(os.getcwd()).parent))\n",
    "\n",
    "from src import utils, schemas, chart_functions as chart\n",
    "\n"
   ]
  },
  {
   "cell_type": "code",
   "execution_count": 21,
   "metadata": {},
   "outputs": [],
   "source": [
    "def load_environment_variables(secret_path):\n",
    "    return toml.load(secret_path)\n",
    "\n",
    "def authenticate(secrets, scope, workbook_name):\n",
    "    credentials_file = json.loads(str(environment['connections']['gsheets']).replace(\"'\", '\"').replace('\\r\\n', '\\\\r\\\\n'))\n",
    "    credentials = ServiceAccountCredentials.from_json_keyfile_dict(credentials_file, scopes=scope)\n",
    "    client = gspread.authorize(credentials)\n",
    "    wb = client.open(workbook_name)\n",
    "    return wb\n",
    "\n",
    "def pad_data(data, length):\n",
    "    padded_data = [[None if x == \"\" else x for x in row] + [None] * (length - len(row)) for row in data]\n",
    "    # for i in range(len(data)):\n",
    "        # data[i] = [None if x == \"\" else x for x in data[i]]\n",
    "        # data[i] = [row + [None] * (length - len(row)) for row in data]\n",
    "    return padded_data\n",
    "\n",
    "def load_data(sheet_name, schema):\n",
    "    sheet = WORKBOOK.worksheet(sheet_name)\n",
    "    data = sheet.get()\n",
    "    headers = data[0]\n",
    "    padded_data = pad_data(data[1:], len(headers))\n",
    "    loaded_dataframe = pl.DataFrame(padded_data, schema=schema, orient='row', strict=False)\n",
    "    return loaded_dataframe\n",
    "\n",
    "environment = load_environment_variables('../.streamlit/secrets.toml')\n",
    "scope = environment['scopes']['scope']\n",
    "WORKBOOK = authenticate(environment, scope, 'NLFB')\n",
    "\n",
    "main_df = utils.load_data('Main', schema=schemas.main_schema, workbook=WORKBOOK)"
   ]
  },
  {
   "cell_type": "code",
   "execution_count": 22,
   "metadata": {},
   "outputs": [
    {
     "data": {
      "text/html": [
       "<div><style>\n",
       ".dataframe > thead > tr,\n",
       ".dataframe > tbody > tr {\n",
       "  text-align: right;\n",
       "  white-space: pre-wrap;\n",
       "}\n",
       "</style>\n",
       "<small>shape: (5, 17)</small><table border=\"1\" class=\"dataframe\"><thead><tr><th>Number</th><th>ISBN</th><th>Month</th><th>Year</th><th>Title</th><th>Score</th><th>Author</th><th>Publisher</th><th>Pages</th><th>Author gender</th><th>Pub year</th><th>Goodreads score</th><th>Our score conversion</th><th>variance</th><th>Debut?</th><th>Translated?</th><th>Topics</th></tr><tr><td>i64</td><td>str</td><td>str</td><td>i64</td><td>str</td><td>f64</td><td>str</td><td>str</td><td>i64</td><td>str</td><td>i64</td><td>f64</td><td>f64</td><td>f64</td><td>str</td><td>str</td><td>str</td></tr></thead><tbody><tr><td>34</td><td>&quot;9780571376483&quot;</td><td>&quot;June&quot;</td><td>2024</td><td>&quot;Demon Copperhead&quot;</td><td>8.192</td><td>&quot;Barbara Kingsolver&quot;</td><td>&quot;Faber &amp; Faber&quot;</td><td>560</td><td>&quot;Female&quot;</td><td>2023</td><td>4.5</td><td>4.096</td><td>-0.404</td><td>&quot;no&quot;</td><td>&quot;no&quot;</td><td>&quot;Historical, Contemporary, Comi…</td></tr><tr><td>14</td><td>&quot;9781784744649&quot;</td><td>&quot;November&quot;</td><td>2022</td><td>&quot;Tomorrow, and Tomorrow, and To…</td><td>7.84</td><td>&quot;Gabrielle Zevin&quot;</td><td>&quot;Vintage Publishing&quot;</td><td>416</td><td>&quot;Female&quot;</td><td>2022</td><td>4.22</td><td>3.92</td><td>-0.3</td><td>&quot;no&quot;</td><td>&quot;no&quot;</td><td>&quot;Contemporary, Romance, Coming …</td></tr><tr><td>31</td><td>&quot;9781838930509&quot;</td><td>&quot;March&quot;</td><td>2024</td><td>&quot;Pachinko&quot;</td><td>7.7</td><td>&quot;Min Jin Lee&quot;</td><td>&quot;Bloomsbury Publishing PLC&quot;</td><td>560</td><td>&quot;Female&quot;</td><td>2017</td><td>4.33</td><td>3.85</td><td>-0.48</td><td>&quot;no&quot;</td><td>&quot;no&quot;</td><td>&quot;Asia, Japan, Historical&quot;</td></tr><tr><td>22</td><td>&quot;9780008532772&quot;</td><td>&quot;July&quot;</td><td>2023</td><td>&quot;Yellowface&quot;</td><td>7.66</td><td>&quot;Rebecca F. Kuang&quot;</td><td>&quot;HarperCollins Publishers&quot;</td><td>336</td><td>&quot;Female&quot;</td><td>2023</td><td>4.04</td><td>3.83</td><td>-0.21</td><td>&quot;no&quot;</td><td>&quot;no&quot;</td><td>&quot;Thriller, Mystery&quot;</td></tr><tr><td>30</td><td>&quot;9781529111798&quot;</td><td>&quot;February&quot;</td><td>2024</td><td>&quot;I who have never known men&quot;</td><td>7.51</td><td>&quot;Jacqueline Harpman&quot;</td><td>&quot;Vintage Publishing&quot;</td><td>208</td><td>&quot;Female&quot;</td><td>1997</td><td>4.22</td><td>3.755</td><td>-0.465</td><td>&quot;no&quot;</td><td>&quot;yes&quot;</td><td>&quot;Sci-fi, Dystopian, Feminism, F…</td></tr></tbody></table></div>"
      ],
      "text/plain": [
       "shape: (5, 17)\n",
       "┌────────┬───────────────┬──────────┬──────┬───┬──────────┬────────┬─────────────┬─────────────────┐\n",
       "│ Number ┆ ISBN          ┆ Month    ┆ Year ┆ … ┆ variance ┆ Debut? ┆ Translated? ┆ Topics          │\n",
       "│ ---    ┆ ---           ┆ ---      ┆ ---  ┆   ┆ ---      ┆ ---    ┆ ---         ┆ ---             │\n",
       "│ i64    ┆ str           ┆ str      ┆ i64  ┆   ┆ f64      ┆ str    ┆ str         ┆ str             │\n",
       "╞════════╪═══════════════╪══════════╪══════╪═══╪══════════╪════════╪═════════════╪═════════════════╡\n",
       "│ 34     ┆ 9780571376483 ┆ June     ┆ 2024 ┆ … ┆ -0.404   ┆ no     ┆ no          ┆ Historical,     │\n",
       "│        ┆               ┆          ┆      ┆   ┆          ┆        ┆             ┆ Contemporary,   │\n",
       "│        ┆               ┆          ┆      ┆   ┆          ┆        ┆             ┆ Comi…           │\n",
       "│ 14     ┆ 9781784744649 ┆ November ┆ 2022 ┆ … ┆ -0.3     ┆ no     ┆ no          ┆ Contemporary,   │\n",
       "│        ┆               ┆          ┆      ┆   ┆          ┆        ┆             ┆ Romance, Coming │\n",
       "│        ┆               ┆          ┆      ┆   ┆          ┆        ┆             ┆ …               │\n",
       "│ 31     ┆ 9781838930509 ┆ March    ┆ 2024 ┆ … ┆ -0.48    ┆ no     ┆ no          ┆ Asia, Japan,    │\n",
       "│        ┆               ┆          ┆      ┆   ┆          ┆        ┆             ┆ Historical      │\n",
       "│ 22     ┆ 9780008532772 ┆ July     ┆ 2023 ┆ … ┆ -0.21    ┆ no     ┆ no          ┆ Thriller,       │\n",
       "│        ┆               ┆          ┆      ┆   ┆          ┆        ┆             ┆ Mystery         │\n",
       "│ 30     ┆ 9781529111798 ┆ February ┆ 2024 ┆ … ┆ -0.465   ┆ no     ┆ yes         ┆ Sci-fi,         │\n",
       "│        ┆               ┆          ┆      ┆   ┆          ┆        ┆             ┆ Dystopian,      │\n",
       "│        ┆               ┆          ┆      ┆   ┆          ┆        ┆             ┆ Feminism, F…    │\n",
       "└────────┴───────────────┴──────────┴──────┴───┴──────────┴────────┴─────────────┴─────────────────┘"
      ]
     },
     "execution_count": 22,
     "metadata": {},
     "output_type": "execute_result"
    }
   ],
   "source": [
    "main_df.head()"
   ]
  },
  {
   "cell_type": "code",
   "execution_count": 25,
   "metadata": {},
   "outputs": [],
   "source": []
  },
  {
   "cell_type": "code",
   "execution_count": 26,
   "metadata": {},
   "outputs": [
    {
     "data": {
      "text/html": [
       "<div><style>\n",
       ".dataframe > thead > tr,\n",
       ".dataframe > tbody > tr {\n",
       "  text-align: right;\n",
       "  white-space: pre-wrap;\n",
       "}\n",
       "</style>\n",
       "<small>shape: (5, 17)</small><table border=\"1\" class=\"dataframe\"><thead><tr><th>Number</th><th>ISBN</th><th>Month</th><th>Year</th><th>Title</th><th>Score</th><th>Author</th><th>Publisher</th><th>Pages</th><th>Author gender</th><th>Pub year</th><th>Goodreads score</th><th>Our score conversion</th><th>variance</th><th>Debut?</th><th>Translated?</th><th>Topics</th></tr><tr><td>i64</td><td>str</td><td>str</td><td>i64</td><td>str</td><td>f64</td><td>str</td><td>str</td><td>i64</td><td>str</td><td>i64</td><td>f64</td><td>f64</td><td>f64</td><td>str</td><td>str</td><td>str</td></tr></thead><tbody><tr><td>34</td><td>&quot;9780571376483&quot;</td><td>&quot;June&quot;</td><td>2024</td><td>&quot;Demon Copperhead&quot;</td><td>8.192</td><td>&quot;Barbara Kingsolver&quot;</td><td>&quot;Faber &amp; Faber&quot;</td><td>560</td><td>&quot;Female&quot;</td><td>2023</td><td>4.5</td><td>4.096</td><td>-0.404</td><td>&quot;no&quot;</td><td>&quot;no&quot;</td><td>&quot;Historical&quot;</td></tr><tr><td>34</td><td>&quot;9780571376483&quot;</td><td>&quot;June&quot;</td><td>2024</td><td>&quot;Demon Copperhead&quot;</td><td>8.192</td><td>&quot;Barbara Kingsolver&quot;</td><td>&quot;Faber &amp; Faber&quot;</td><td>560</td><td>&quot;Female&quot;</td><td>2023</td><td>4.5</td><td>4.096</td><td>-0.404</td><td>&quot;no&quot;</td><td>&quot;no&quot;</td><td>&quot;Contemporary&quot;</td></tr><tr><td>34</td><td>&quot;9780571376483&quot;</td><td>&quot;June&quot;</td><td>2024</td><td>&quot;Demon Copperhead&quot;</td><td>8.192</td><td>&quot;Barbara Kingsolver&quot;</td><td>&quot;Faber &amp; Faber&quot;</td><td>560</td><td>&quot;Female&quot;</td><td>2023</td><td>4.5</td><td>4.096</td><td>-0.404</td><td>&quot;no&quot;</td><td>&quot;no&quot;</td><td>&quot;Coming of age&quot;</td></tr><tr><td>14</td><td>&quot;9781784744649&quot;</td><td>&quot;November&quot;</td><td>2022</td><td>&quot;Tomorrow, and Tomorrow, and To…</td><td>7.84</td><td>&quot;Gabrielle Zevin&quot;</td><td>&quot;Vintage Publishing&quot;</td><td>416</td><td>&quot;Female&quot;</td><td>2022</td><td>4.22</td><td>3.92</td><td>-0.3</td><td>&quot;no&quot;</td><td>&quot;no&quot;</td><td>&quot;Contemporary&quot;</td></tr><tr><td>14</td><td>&quot;9781784744649&quot;</td><td>&quot;November&quot;</td><td>2022</td><td>&quot;Tomorrow, and Tomorrow, and To…</td><td>7.84</td><td>&quot;Gabrielle Zevin&quot;</td><td>&quot;Vintage Publishing&quot;</td><td>416</td><td>&quot;Female&quot;</td><td>2022</td><td>4.22</td><td>3.92</td><td>-0.3</td><td>&quot;no&quot;</td><td>&quot;no&quot;</td><td>&quot;Romance&quot;</td></tr></tbody></table></div>"
      ],
      "text/plain": [
       "shape: (5, 17)\n",
       "┌────────┬───────────────┬──────────┬──────┬───┬──────────┬────────┬─────────────┬───────────────┐\n",
       "│ Number ┆ ISBN          ┆ Month    ┆ Year ┆ … ┆ variance ┆ Debut? ┆ Translated? ┆ Topics        │\n",
       "│ ---    ┆ ---           ┆ ---      ┆ ---  ┆   ┆ ---      ┆ ---    ┆ ---         ┆ ---           │\n",
       "│ i64    ┆ str           ┆ str      ┆ i64  ┆   ┆ f64      ┆ str    ┆ str         ┆ str           │\n",
       "╞════════╪═══════════════╪══════════╪══════╪═══╪══════════╪════════╪═════════════╪═══════════════╡\n",
       "│ 34     ┆ 9780571376483 ┆ June     ┆ 2024 ┆ … ┆ -0.404   ┆ no     ┆ no          ┆ Historical    │\n",
       "│ 34     ┆ 9780571376483 ┆ June     ┆ 2024 ┆ … ┆ -0.404   ┆ no     ┆ no          ┆ Contemporary  │\n",
       "│ 34     ┆ 9780571376483 ┆ June     ┆ 2024 ┆ … ┆ -0.404   ┆ no     ┆ no          ┆ Coming of age │\n",
       "│ 14     ┆ 9781784744649 ┆ November ┆ 2022 ┆ … ┆ -0.3     ┆ no     ┆ no          ┆ Contemporary  │\n",
       "│ 14     ┆ 9781784744649 ┆ November ┆ 2022 ┆ … ┆ -0.3     ┆ no     ┆ no          ┆ Romance       │\n",
       "└────────┴───────────────┴──────────┴──────┴───┴──────────┴────────┴─────────────┴───────────────┘"
      ]
     },
     "execution_count": 26,
     "metadata": {},
     "output_type": "execute_result"
    }
   ],
   "source": [
    "new_main_df.head()"
   ]
  },
  {
   "cell_type": "code",
   "execution_count": null,
   "metadata": {},
   "outputs": [],
   "source": []
  },
  {
   "cell_type": "code",
   "execution_count": 47,
   "metadata": {},
   "outputs": [],
   "source": [
    "\n",
    "new_main_df = (\n",
    "    main_df\n",
    "    .with_columns(pl.col(\"Topics\").str.split(\", \"))\n",
    "    .explode(\"Topics\")\n",
    "    \n",
    ")\n",
    "\n",
    "new_new = new_main_df.group_by(pl.col(\"Topics\")).agg(pl.col(\"Title\").count()).sort(pl.col(\"Title\"), descending=True)\n",
    "\n",
    "topics_bar = px.bar(new_new, x=\"Topics\", y=\"Title\")"
   ]
  },
  {
   "cell_type": "code",
   "execution_count": 51,
   "metadata": {},
   "outputs": [
    {
     "data": {
      "text/plain": [
       "int"
      ]
     },
     "execution_count": 51,
     "metadata": {},
     "output_type": "execute_result"
    }
   ],
   "source": [
    "type(5)"
   ]
  },
  {
   "cell_type": "code",
   "execution_count": 37,
   "metadata": {},
   "outputs": [
    {
     "data": {
      "text/html": [
       "<div><style>\n",
       ".dataframe > thead > tr,\n",
       ".dataframe > tbody > tr {\n",
       "  text-align: right;\n",
       "  white-space: pre-wrap;\n",
       "}\n",
       "</style>\n",
       "<small>shape: (35, 2)</small><table border=\"1\" class=\"dataframe\"><thead><tr><th>Topics</th><th>Title</th></tr><tr><td>str</td><td>u32</td></tr></thead><tbody><tr><td>&quot;Romance&quot;</td><td>16</td></tr><tr><td>&quot;Contemporary&quot;</td><td>13</td></tr><tr><td>&quot;Mystery&quot;</td><td>9</td></tr><tr><td>&quot;Historical&quot;</td><td>8</td></tr><tr><td>&quot;Thriller&quot;</td><td>6</td></tr><tr><td>&hellip;</td><td>&hellip;</td></tr><tr><td>&quot;Greek mythology&quot;</td><td>1</td></tr><tr><td>&quot;Gothic&quot;</td><td>1</td></tr><tr><td>&quot;African american&quot;</td><td>1</td></tr><tr><td>&quot;Nature&quot;</td><td>1</td></tr><tr><td>null</td><td>0</td></tr></tbody></table></div>"
      ],
      "text/plain": [
       "shape: (35, 2)\n",
       "┌──────────────────┬───────┐\n",
       "│ Topics           ┆ Title │\n",
       "│ ---              ┆ ---   │\n",
       "│ str              ┆ u32   │\n",
       "╞══════════════════╪═══════╡\n",
       "│ Romance          ┆ 16    │\n",
       "│ Contemporary     ┆ 13    │\n",
       "│ Mystery          ┆ 9     │\n",
       "│ Historical       ┆ 8     │\n",
       "│ Thriller         ┆ 6     │\n",
       "│ …                ┆ …     │\n",
       "│ Greek mythology  ┆ 1     │\n",
       "│ Gothic           ┆ 1     │\n",
       "│ African american ┆ 1     │\n",
       "│ Nature           ┆ 1     │\n",
       "│ null             ┆ 0     │\n",
       "└──────────────────┴───────┘"
      ]
     },
     "execution_count": 37,
     "metadata": {},
     "output_type": "execute_result"
    }
   ],
   "source": [
    "new_main_df.group_by(pl.col(\"Topics\")).agg(pl.col(\"Title\").count()).sort(pl.col(\"Title\"), descending=True)"
   ]
  },
  {
   "cell_type": "code",
   "execution_count": null,
   "metadata": {},
   "outputs": [],
   "source": []
  }
 ],
 "metadata": {
  "kernelspec": {
   "display_name": "nlfb",
   "language": "python",
   "name": "python3"
  },
  "language_info": {
   "codemirror_mode": {
    "name": "ipython",
    "version": 3
   },
   "file_extension": ".py",
   "mimetype": "text/x-python",
   "name": "python",
   "nbconvert_exporter": "python",
   "pygments_lexer": "ipython3",
   "version": "3.12.5"
  }
 },
 "nbformat": 4,
 "nbformat_minor": 2
}
