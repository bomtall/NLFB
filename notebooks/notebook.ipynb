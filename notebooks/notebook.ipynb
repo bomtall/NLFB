{
 "cells": [
  {
   "cell_type": "code",
   "execution_count": 15,
   "metadata": {},
   "outputs": [],
   "source": [
    "import os\n",
    "import sys\n",
    "import toml\n",
    "import json\n",
    "import millify\n",
    "import gspread\n",
    "import requests\n",
    "import calendar\n",
    "import plotly.express as px\n",
    "import numpy as np\n",
    "import pandas as pd\n",
    "import polars as pl\n",
    "import datetime as dt\n",
    "import streamlit as st\n",
    "from pathlib import Path\n",
    "from millify import prettify\n",
    "from lxml.html import fromstring\n",
    "from streamlit_gsheets import GSheetsConnection\n",
    "from google.oauth2.service_account import Credentials\n",
    "from oauth2client.service_account import ServiceAccountCredentials\n",
    "import scipy\n",
    "\n",
    "sys.path.insert(0, str(Path(os.getcwd()).parent))\n",
    "\n",
    "from src import utils, schemas, chart_functions as chart\n",
    "\n"
   ]
  },
  {
   "cell_type": "code",
   "execution_count": 17,
   "metadata": {},
   "outputs": [],
   "source": [
    "def load_environment_variables(secret_path):\n",
    "    return toml.load(secret_path)\n",
    "\n",
    "def authenticate(secrets, scope, workbook_name):\n",
    "    credentials_file = json.loads(str(environment['connections']['gsheets']).replace(\"'\", '\"').replace('\\r\\n', '\\\\r\\\\n'))\n",
    "    credentials = ServiceAccountCredentials.from_json_keyfile_dict(credentials_file, scopes=scope)\n",
    "    client = gspread.authorize(credentials)\n",
    "    wb = client.open(workbook_name)\n",
    "    return wb\n",
    "\n",
    "def pad_data(data, length):\n",
    "    padded_data = [[None if x == \"\" else x for x in row] + [None] * (length - len(row)) for row in data]\n",
    "    # for i in range(len(data)):\n",
    "        # data[i] = [None if x == \"\" else x for x in data[i]]\n",
    "        # data[i] = [row + [None] * (length - len(row)) for row in data]\n",
    "    return padded_data\n",
    "\n",
    "def load_data(sheet_name, schema):\n",
    "    sheet = WORKBOOK.worksheet(sheet_name)\n",
    "    data = sheet.get()\n",
    "    headers = data[0]\n",
    "    padded_data = pad_data(data[1:], len(headers))\n",
    "    loaded_dataframe = pl.DataFrame(padded_data, schema=schemas.main_schema, orient='row', strict=False)\n",
    "    return loaded_dataframe\n",
    "\n",
    "environment = load_environment_variables('../.streamlit/secrets.toml')\n",
    "scope = environment['scopes']['scope']\n",
    "WORKBOOK = authenticate(environment, scope, 'NLFB')\n",
    "\n",
    "main_df = utils.load_data('Main', schema=schemas.get_main_schema(), workbook=WORKBOOK)"
   ]
  },
  {
   "cell_type": "code",
   "execution_count": null,
   "metadata": {},
   "outputs": [
    {
     "data": {
      "text/html": [
       "<div><style>\n",
       ".dataframe > thead > tr,\n",
       ".dataframe > tbody > tr {\n",
       "  text-align: right;\n",
       "  white-space: pre-wrap;\n",
       "}\n",
       "</style>\n",
       "<small>shape: (5, 17)</small><table border=\"1\" class=\"dataframe\"><thead><tr><th>Number</th><th>ISBN</th><th>Month</th><th>Year</th><th>Title</th><th>Score</th><th>Author</th><th>Publisher</th><th>Pages</th><th>Author gender</th><th>Pub year</th><th>Goodreads score</th><th>Our score conversion</th><th>variance</th><th>Debut?</th><th>Translated?</th><th>Topics</th></tr><tr><td>i64</td><td>str</td><td>str</td><td>i64</td><td>str</td><td>f64</td><td>str</td><td>str</td><td>i64</td><td>str</td><td>i64</td><td>f64</td><td>f64</td><td>f64</td><td>str</td><td>str</td><td>str</td></tr></thead><tbody><tr><td>34</td><td>&quot;9780571376483&quot;</td><td>&quot;June&quot;</td><td>2024</td><td>&quot;Demon Copperhead&quot;</td><td>8.192</td><td>&quot;Barbara Kingsolver&quot;</td><td>&quot;Faber &amp; Faber&quot;</td><td>560</td><td>&quot;Female&quot;</td><td>2023</td><td>4.5</td><td>4.096</td><td>-0.404</td><td>&quot;No&quot;</td><td>&quot;No&quot;</td><td>&quot;Contemporary, Coming of age, A…</td></tr><tr><td>14</td><td>&quot;9781784744649&quot;</td><td>&quot;November&quot;</td><td>2022</td><td>&quot;Tomorrow, and Tomorrow, and To…</td><td>7.84</td><td>&quot;Gabrielle Zevin&quot;</td><td>&quot;Vintage Publishing&quot;</td><td>416</td><td>&quot;Female&quot;</td><td>2022</td><td>4.22</td><td>3.92</td><td>-0.3</td><td>&quot;No&quot;</td><td>&quot;No&quot;</td><td>&quot;Contemporary, Romance, Coming …</td></tr><tr><td>31</td><td>&quot;9781838930509&quot;</td><td>&quot;March&quot;</td><td>2024</td><td>&quot;Pachinko&quot;</td><td>7.7</td><td>&quot;Min Jin Lee&quot;</td><td>&quot;Bloomsbury Publishing PLC&quot;</td><td>560</td><td>&quot;Female&quot;</td><td>2017</td><td>4.33</td><td>3.85</td><td>-0.48</td><td>&quot;No&quot;</td><td>&quot;No&quot;</td><td>&quot;Asia, Japan, Historical, Famil…</td></tr><tr><td>22</td><td>&quot;9780008532772&quot;</td><td>&quot;July&quot;</td><td>2023</td><td>&quot;Yellowface&quot;</td><td>7.66</td><td>&quot;Rebecca F. Kuang&quot;</td><td>&quot;HarperCollins Publishers&quot;</td><td>336</td><td>&quot;Female&quot;</td><td>2023</td><td>4.04</td><td>3.83</td><td>-0.21</td><td>&quot;No&quot;</td><td>&quot;No&quot;</td><td>&quot;Contemporary, Identity theft, …</td></tr><tr><td>30</td><td>&quot;9781529111798&quot;</td><td>&quot;February&quot;</td><td>2024</td><td>&quot;I who have never known men&quot;</td><td>7.51</td><td>&quot;Jacqueline Harpman&quot;</td><td>&quot;Vintage Publishing&quot;</td><td>208</td><td>&quot;Female&quot;</td><td>1997</td><td>4.22</td><td>3.755</td><td>-0.465</td><td>&quot;No&quot;</td><td>&quot;Yes&quot;</td><td>&quot;Sci-fi, Dystopian, Feminism, F…</td></tr></tbody></table></div>"
      ],
      "text/plain": [
       "shape: (5, 17)\n",
       "┌────────┬───────────────┬──────────┬──────┬───┬──────────┬────────┬─────────────┬─────────────────┐\n",
       "│ Number ┆ ISBN          ┆ Month    ┆ Year ┆ … ┆ variance ┆ Debut? ┆ Translated? ┆ Topics          │\n",
       "│ ---    ┆ ---           ┆ ---      ┆ ---  ┆   ┆ ---      ┆ ---    ┆ ---         ┆ ---             │\n",
       "│ i64    ┆ str           ┆ str      ┆ i64  ┆   ┆ f64      ┆ str    ┆ str         ┆ str             │\n",
       "╞════════╪═══════════════╪══════════╪══════╪═══╪══════════╪════════╪═════════════╪═════════════════╡\n",
       "│ 34     ┆ 9780571376483 ┆ June     ┆ 2024 ┆ … ┆ -0.404   ┆ No     ┆ No          ┆ Contemporary,   │\n",
       "│        ┆               ┆          ┆      ┆   ┆          ┆        ┆             ┆ Coming of age,  │\n",
       "│        ┆               ┆          ┆      ┆   ┆          ┆        ┆             ┆ A…              │\n",
       "│ 14     ┆ 9781784744649 ┆ November ┆ 2022 ┆ … ┆ -0.3     ┆ No     ┆ No          ┆ Contemporary,   │\n",
       "│        ┆               ┆          ┆      ┆   ┆          ┆        ┆             ┆ Romance, Coming │\n",
       "│        ┆               ┆          ┆      ┆   ┆          ┆        ┆             ┆ …               │\n",
       "│ 31     ┆ 9781838930509 ┆ March    ┆ 2024 ┆ … ┆ -0.48    ┆ No     ┆ No          ┆ Asia, Japan,    │\n",
       "│        ┆               ┆          ┆      ┆   ┆          ┆        ┆             ┆ Historical,     │\n",
       "│        ┆               ┆          ┆      ┆   ┆          ┆        ┆             ┆ Famil…          │\n",
       "│ 22     ┆ 9780008532772 ┆ July     ┆ 2023 ┆ … ┆ -0.21    ┆ No     ┆ No          ┆ Contemporary,   │\n",
       "│        ┆               ┆          ┆      ┆   ┆          ┆        ┆             ┆ Identity theft, │\n",
       "│        ┆               ┆          ┆      ┆   ┆          ┆        ┆             ┆ …               │\n",
       "│ 30     ┆ 9781529111798 ┆ February ┆ 2024 ┆ … ┆ -0.465   ┆ No     ┆ Yes         ┆ Sci-fi,         │\n",
       "│        ┆               ┆          ┆      ┆   ┆          ┆        ┆             ┆ Dystopian,      │\n",
       "│        ┆               ┆          ┆      ┆   ┆          ┆        ┆             ┆ Feminism, F…    │\n",
       "└────────┴───────────────┴──────────┴──────┴───┴──────────┴────────┴─────────────┴─────────────────┘"
      ]
     },
     "execution_count": 69,
     "metadata": {},
     "output_type": "execute_result"
    }
   ],
   "source": [
    "main_df.head()"
   ]
  },
  {
   "cell_type": "code",
   "execution_count": 47,
   "metadata": {},
   "outputs": [],
   "source": [
    "\n",
    "new_main_df = (\n",
    "    main_df\n",
    "    .with_columns(pl.col(\"Topics\").str.split(\", \"))\n",
    "    .explode(\"Topics\")\n",
    "    \n",
    ")\n",
    "\n",
    "new_new = new_main_df.group_by(pl.col(\"Topics\")).agg(pl.col(\"Title\").count()).sort(pl.col(\"Title\"), descending=True)\n",
    "\n",
    "topics_bar = px.bar(new_new, x=\"Topics\", y=\"Title\")"
   ]
  },
  {
   "cell_type": "code",
   "execution_count": 37,
   "metadata": {},
   "outputs": [
    {
     "data": {
      "text/html": [
       "<div><style>\n",
       ".dataframe > thead > tr,\n",
       ".dataframe > tbody > tr {\n",
       "  text-align: right;\n",
       "  white-space: pre-wrap;\n",
       "}\n",
       "</style>\n",
       "<small>shape: (35, 2)</small><table border=\"1\" class=\"dataframe\"><thead><tr><th>Topics</th><th>Title</th></tr><tr><td>str</td><td>u32</td></tr></thead><tbody><tr><td>&quot;Romance&quot;</td><td>16</td></tr><tr><td>&quot;Contemporary&quot;</td><td>13</td></tr><tr><td>&quot;Mystery&quot;</td><td>9</td></tr><tr><td>&quot;Historical&quot;</td><td>8</td></tr><tr><td>&quot;Thriller&quot;</td><td>6</td></tr><tr><td>&hellip;</td><td>&hellip;</td></tr><tr><td>&quot;Greek mythology&quot;</td><td>1</td></tr><tr><td>&quot;Gothic&quot;</td><td>1</td></tr><tr><td>&quot;African american&quot;</td><td>1</td></tr><tr><td>&quot;Nature&quot;</td><td>1</td></tr><tr><td>null</td><td>0</td></tr></tbody></table></div>"
      ],
      "text/plain": [
       "shape: (35, 2)\n",
       "┌──────────────────┬───────┐\n",
       "│ Topics           ┆ Title │\n",
       "│ ---              ┆ ---   │\n",
       "│ str              ┆ u32   │\n",
       "╞══════════════════╪═══════╡\n",
       "│ Romance          ┆ 16    │\n",
       "│ Contemporary     ┆ 13    │\n",
       "│ Mystery          ┆ 9     │\n",
       "│ Historical       ┆ 8     │\n",
       "│ Thriller         ┆ 6     │\n",
       "│ …                ┆ …     │\n",
       "│ Greek mythology  ┆ 1     │\n",
       "│ Gothic           ┆ 1     │\n",
       "│ African american ┆ 1     │\n",
       "│ Nature           ┆ 1     │\n",
       "│ null             ┆ 0     │\n",
       "└──────────────────┴───────┘"
      ]
     },
     "execution_count": 37,
     "metadata": {},
     "output_type": "execute_result"
    }
   ],
   "source": [
    "new_main_df.group_by(pl.col(\"Topics\")).agg(pl.col(\"Title\").count()).sort(pl.col(\"Title\"), descending=True)"
   ]
  },
  {
   "cell_type": "code",
   "execution_count": 52,
   "metadata": {},
   "outputs": [],
   "source": [
    "def get_text_from_html_element(url: str, element_id: str) -> str:\n",
    "    response = requests.get(url)\n",
    "    soup = fromstring(response.text)\n",
    "    try:\n",
    "        element = soup.get_element_by_id(element_id)\n",
    "        text = str(element.text_content())\n",
    "    except KeyError:\n",
    "        text = \"\"\n",
    "    return text"
   ]
  },
  {
   "cell_type": "code",
   "execution_count": 55,
   "metadata": {},
   "outputs": [],
   "source": [
    "meetup = \"https://www.meetup.com/20-and-30-somethings-book-club-london/\"\n",
    "# elem = \"member-count-link\"\n",
    "elem = \"made up id\""
   ]
  },
  {
   "cell_type": "code",
   "execution_count": 57,
   "metadata": {},
   "outputs": [],
   "source": [
    "response = requests.get(meetup)\n",
    "soup = fromstring(response.text)"
   ]
  },
  {
   "cell_type": "code",
   "execution_count": 62,
   "metadata": {},
   "outputs": [
    {
     "name": "stdout",
     "output_type": "stream",
     "text": [
      "<Element a at 0x21f76baab70>\n",
      "done\n"
     ]
    }
   ],
   "source": [
    "try:\n",
    "    element = soup.get_element_by_id(\"member-count-link\")\n",
    "    print(element)\n",
    "except KeyError:\n",
    "    print(\"caught\")\n",
    "finally:\n",
    "    print(\"done\")"
   ]
  },
  {
   "cell_type": "code",
   "execution_count": 100,
   "metadata": {},
   "outputs": [],
   "source": [
    "new_main_df = (\n",
    "    main_df\n",
    "    .with_columns(pl.col(\"Topics\").str.split(\", \"))\n",
    "    .explode(\"Topics\")\n",
    "    \n",
    ")\n",
    "\n",
    "new_new = new_main_df.group_by([pl.col(\"Publisher\"), pl.col(\"Topics\")]).agg(pl.col(\"Title\").count().alias(\"Count\"))\n",
    "\n"
   ]
  },
  {
   "cell_type": "code",
   "execution_count": 157,
   "metadata": {},
   "outputs": [],
   "source": [
    "hm = new_new.pivot(index='Topics', on='Publisher').fill_null(0)"
   ]
  },
  {
   "cell_type": "code",
   "execution_count": 167,
   "metadata": {},
   "outputs": [
    {
     "data": {
      "application/vnd.plotly.v1+json": {
       "config": {
        "plotlyServerURL": "https://plot.ly"
       },
       "data": [
        {
         "coloraxis": "coloraxis",
         "hovertemplate": "Topic: %{x}<br>Publisher: %{y}<br>Count: %{z}<extra></extra>",
         "name": "0",
         "type": "heatmap",
         "x": [
          "Topics",
          "Hodder & Stoughton",
          "Vintage Publishing",
          "Transworld Publishers Ltd",
          "Little, Brown Book Group",
          "Headline Publishing Group",
          "HarperCollins Publishers",
          "Pan Macmillan",
          "Canongate Books",
          "Penguin Books Ltd",
          "Bloomsbury Publishing PLC",
          "Orion Publishing Co",
          "Faber & Faber",
          "Oneworld Publications",
          "null"
         ],
         "xaxis": "x",
         "y": [
          "Fantasy",
          "Sci-fi",
          "Romance",
          "Historical",
          "Mystery",
          "Thriller",
          "Britain",
          "Ireland",
          "Feminism",
          "Food",
          "Greek mythology",
          "Horror",
          "Race",
          "Contemporary",
          "Japan",
          "Travel",
          "Coming of age",
          "Identity theft",
          "Social media",
          "African american",
          "Environment",
          "Family",
          "Crime",
          "Humour",
          "Mental health",
          "LGBTQ+",
          "Dystopian",
          "Suspense",
          "Gothic",
          "Magical realism",
          "Publishing",
          "France",
          "India",
          "Spain",
          "Addiction",
          "Gaming",
          "Nature",
          "Asia",
          "Sweden",
          "Grief",
          "Hardship",
          null
         ],
         "yaxis": "y",
         "z": [
          [
           "Fantasy",
           1,
           1,
           0,
           0,
           1,
           0,
           0,
           2,
           0,
           0,
           0,
           0,
           0,
           0
          ],
          [
           "Sci-fi",
           1,
           2,
           0,
           0,
           0,
           0,
           0,
           1,
           0,
           0,
           0,
           0,
           0,
           0
          ],
          [
           "Romance",
           2,
           2,
           2,
           3,
           1,
           0,
           1,
           0,
           3,
           1,
           1,
           1,
           0,
           0
          ],
          [
           "Historical",
           1,
           0,
           1,
           1,
           1,
           0,
           0,
           0,
           1,
           1,
           1,
           0,
           0,
           0
          ],
          [
           "Mystery",
           1,
           1,
           0,
           1,
           0,
           1,
           1,
           0,
           1,
           0,
           2,
           0,
           0,
           0
          ],
          [
           "Thriller",
           1,
           1,
           0,
           0,
           0,
           1,
           1,
           0,
           0,
           0,
           1,
           0,
           0,
           0
          ],
          [
           "Britain",
           1,
           0,
           0,
           1,
           0,
           0,
           0,
           0,
           2,
           0,
           0,
           0,
           0,
           0
          ],
          [
           "Ireland",
           0,
           1,
           0,
           1,
           0,
           0,
           0,
           0,
           0,
           0,
           0,
           1,
           0,
           0
          ],
          [
           "Feminism",
           0,
           1,
           1,
           0,
           0,
           0,
           1,
           0,
           0,
           0,
           0,
           0,
           0,
           0
          ],
          [
           "Food",
           0,
           0,
           0,
           0,
           0,
           1,
           0,
           0,
           0,
           0,
           0,
           0,
           0,
           0
          ],
          [
           "Greek mythology",
           0,
           0,
           0,
           0,
           1,
           0,
           0,
           0,
           0,
           0,
           0,
           0,
           0,
           0
          ],
          [
           "Horror",
           0,
           0,
           0,
           0,
           0,
           0,
           1,
           0,
           1,
           0,
           1,
           0,
           1,
           0
          ],
          [
           "Race",
           0,
           0,
           0,
           0,
           0,
           1,
           1,
           0,
           1,
           0,
           0,
           0,
           0,
           0
          ],
          [
           "Contemporary",
           1,
           4,
           0,
           2,
           0,
           1,
           0,
           1,
           2,
           0,
           1,
           1,
           1,
           0
          ],
          [
           "Japan",
           0,
           0,
           0,
           0,
           0,
           1,
           0,
           0,
           0,
           1,
           0,
           0,
           0,
           0
          ],
          [
           "Travel",
           1,
           0,
           0,
           0,
           0,
           0,
           0,
           0,
           0,
           0,
           0,
           0,
           0,
           0
          ],
          [
           "Coming of age",
           0,
           1,
           0,
           2,
           0,
           0,
           0,
           1,
           0,
           0,
           0,
           1,
           1,
           0
          ],
          [
           "Identity theft",
           0,
           0,
           0,
           0,
           0,
           1,
           0,
           0,
           0,
           0,
           0,
           0,
           0,
           0
          ],
          [
           "Social media",
           0,
           0,
           0,
           0,
           0,
           1,
           0,
           0,
           0,
           0,
           0,
           0,
           0,
           0
          ],
          [
           "African american",
           0,
           0,
           0,
           0,
           0,
           0,
           1,
           0,
           0,
           0,
           0,
           0,
           0,
           0
          ],
          [
           "Environment",
           0,
           1,
           0,
           0,
           0,
           0,
           0,
           0,
           0,
           0,
           0,
           0,
           0,
           0
          ],
          [
           "Family",
           0,
           1,
           0,
           0,
           1,
           0,
           0,
           0,
           0,
           1,
           0,
           0,
           0,
           0
          ],
          [
           "Crime",
           0,
           0,
           0,
           0,
           0,
           1,
           1,
           0,
           0,
           0,
           1,
           0,
           0,
           0
          ],
          [
           "Humour",
           1,
           0,
           1,
           1,
           0,
           0,
           0,
           1,
           1,
           0,
           0,
           0,
           0,
           0
          ],
          [
           "Mental health",
           0,
           0,
           0,
           0,
           0,
           0,
           1,
           1,
           0,
           0,
           0,
           0,
           0,
           0
          ],
          [
           "LGBTQ+",
           0,
           0,
           0,
           1,
           1,
           0,
           2,
           0,
           0,
           0,
           1,
           0,
           0,
           0
          ],
          [
           "Dystopian",
           0,
           1,
           0,
           0,
           0,
           0,
           0,
           0,
           0,
           0,
           0,
           0,
           0,
           0
          ],
          [
           "Suspense",
           0,
           0,
           0,
           0,
           0,
           0,
           1,
           0,
           0,
           0,
           1,
           0,
           0,
           0
          ],
          [
           "Gothic",
           0,
           0,
           0,
           0,
           0,
           0,
           1,
           0,
           0,
           0,
           0,
           0,
           0,
           0
          ],
          [
           "Magical realism",
           0,
           0,
           0,
           0,
           0,
           0,
           0,
           1,
           1,
           0,
           0,
           0,
           0,
           0
          ],
          [
           "Publishing",
           0,
           0,
           0,
           0,
           0,
           1,
           0,
           0,
           0,
           0,
           0,
           0,
           0,
           0
          ],
          [
           "France",
           0,
           1,
           0,
           0,
           0,
           0,
           0,
           0,
           1,
           0,
           0,
           0,
           0,
           0
          ],
          [
           "India",
           0,
           0,
           0,
           1,
           0,
           0,
           0,
           0,
           0,
           0,
           0,
           0,
           0,
           0
          ],
          [
           "Spain",
           0,
           0,
           0,
           0,
           0,
           0,
           0,
           0,
           1,
           0,
           0,
           0,
           0,
           0
          ],
          [
           "Addiction",
           0,
           0,
           0,
           0,
           0,
           0,
           0,
           0,
           0,
           0,
           0,
           1,
           0,
           0
          ],
          [
           "Gaming",
           0,
           1,
           0,
           0,
           0,
           0,
           0,
           0,
           0,
           0,
           0,
           0,
           0,
           0
          ],
          [
           "Nature",
           0,
           1,
           0,
           0,
           0,
           0,
           0,
           0,
           0,
           0,
           0,
           0,
           0,
           0
          ],
          [
           "Asia",
           0,
           0,
           0,
           0,
           0,
           0,
           0,
           0,
           0,
           1,
           0,
           0,
           0,
           0
          ],
          [
           "Sweden",
           1,
           0,
           0,
           0,
           0,
           0,
           0,
           0,
           0,
           0,
           0,
           0,
           0,
           0
          ],
          [
           "Grief",
           0,
           1,
           0,
           0,
           0,
           0,
           0,
           0,
           0,
           0,
           0,
           0,
           0,
           0
          ],
          [
           "Hardship",
           0,
           0,
           0,
           0,
           0,
           0,
           0,
           0,
           0,
           1,
           0,
           1,
           0,
           0
          ],
          [
           null,
           0,
           0,
           0,
           0,
           0,
           0,
           0,
           0,
           0,
           0,
           0,
           0,
           0,
           0
          ]
         ]
        }
       ],
       "layout": {
        "coloraxis": {
         "colorbar": {
          "title": {
           "text": "Count"
          }
         },
         "colorscale": [
          [
           0,
           "rgb(255,247,243)"
          ],
          [
           0.125,
           "rgb(253,224,221)"
          ],
          [
           0.25,
           "rgb(252,197,192)"
          ],
          [
           0.375,
           "rgb(250,159,181)"
          ],
          [
           0.5,
           "rgb(247,104,161)"
          ],
          [
           0.625,
           "rgb(221,52,151)"
          ],
          [
           0.75,
           "rgb(174,1,126)"
          ],
          [
           0.875,
           "rgb(122,1,119)"
          ],
          [
           1,
           "rgb(73,0,106)"
          ]
         ],
         "showscale": false
        },
        "dragmode": "pan",
        "height": 1000,
        "margin": {
         "b": 50,
         "t": 200
        },
        "template": {
         "data": {
          "candlestick": [
           {
            "decreasing": {
             "line": {
              "color": "#000033"
             }
            },
            "increasing": {
             "line": {
              "color": "#000032"
             }
            },
            "type": "candlestick"
           }
          ],
          "contour": [
           {
            "colorscale": [
             [
              0,
              "#000011"
             ],
             [
              0.1111111111111111,
              "#000012"
             ],
             [
              0.2222222222222222,
              "#000013"
             ],
             [
              0.3333333333333333,
              "#000014"
             ],
             [
              0.4444444444444444,
              "#000015"
             ],
             [
              0.5555555555555556,
              "#000016"
             ],
             [
              0.6666666666666666,
              "#000017"
             ],
             [
              0.7777777777777778,
              "#000018"
             ],
             [
              0.8888888888888888,
              "#000019"
             ],
             [
              1,
              "#000020"
             ]
            ],
            "type": "contour"
           }
          ],
          "contourcarpet": [
           {
            "colorscale": [
             [
              0,
              "#000011"
             ],
             [
              0.1111111111111111,
              "#000012"
             ],
             [
              0.2222222222222222,
              "#000013"
             ],
             [
              0.3333333333333333,
              "#000014"
             ],
             [
              0.4444444444444444,
              "#000015"
             ],
             [
              0.5555555555555556,
              "#000016"
             ],
             [
              0.6666666666666666,
              "#000017"
             ],
             [
              0.7777777777777778,
              "#000018"
             ],
             [
              0.8888888888888888,
              "#000019"
             ],
             [
              1,
              "#000020"
             ]
            ],
            "type": "contourcarpet"
           }
          ],
          "heatmap": [
           {
            "colorscale": [
             [
              0,
              "#000011"
             ],
             [
              0.1111111111111111,
              "#000012"
             ],
             [
              0.2222222222222222,
              "#000013"
             ],
             [
              0.3333333333333333,
              "#000014"
             ],
             [
              0.4444444444444444,
              "#000015"
             ],
             [
              0.5555555555555556,
              "#000016"
             ],
             [
              0.6666666666666666,
              "#000017"
             ],
             [
              0.7777777777777778,
              "#000018"
             ],
             [
              0.8888888888888888,
              "#000019"
             ],
             [
              1,
              "#000020"
             ]
            ],
            "type": "heatmap"
           }
          ],
          "histogram2d": [
           {
            "colorscale": [
             [
              0,
              "#000011"
             ],
             [
              0.1111111111111111,
              "#000012"
             ],
             [
              0.2222222222222222,
              "#000013"
             ],
             [
              0.3333333333333333,
              "#000014"
             ],
             [
              0.4444444444444444,
              "#000015"
             ],
             [
              0.5555555555555556,
              "#000016"
             ],
             [
              0.6666666666666666,
              "#000017"
             ],
             [
              0.7777777777777778,
              "#000018"
             ],
             [
              0.8888888888888888,
              "#000019"
             ],
             [
              1,
              "#000020"
             ]
            ],
            "type": "histogram2d"
           }
          ],
          "icicle": [
           {
            "textfont": {
             "color": "white"
            },
            "type": "icicle"
           }
          ],
          "sankey": [
           {
            "textfont": {
             "color": "#000036"
            },
            "type": "sankey"
           }
          ],
          "scatter": [
           {
            "marker": {
             "line": {
              "width": 0
             }
            },
            "type": "scatter"
           }
          ],
          "table": [
           {
            "cells": {
             "fill": {
              "color": "#000038"
             },
             "font": {
              "color": "#000037"
             },
             "line": {
              "color": "#000039"
             }
            },
            "header": {
             "fill": {
              "color": "#000040"
             },
             "font": {
              "color": "#000036"
             },
             "line": {
              "color": "#000039"
             }
            },
            "type": "table"
           }
          ],
          "waterfall": [
           {
            "connector": {
             "line": {
              "color": "#000036",
              "width": 2
             }
            },
            "decreasing": {
             "marker": {
              "color": "#000033"
             }
            },
            "increasing": {
             "marker": {
              "color": "#000032"
             }
            },
            "totals": {
             "marker": {
              "color": "#000034"
             }
            },
            "type": "waterfall"
           }
          ]
         },
         "layout": {
          "coloraxis": {
           "colorscale": [
            [
             0,
             "#000011"
            ],
            [
             0.1111111111111111,
             "#000012"
            ],
            [
             0.2222222222222222,
             "#000013"
            ],
            [
             0.3333333333333333,
             "#000014"
            ],
            [
             0.4444444444444444,
             "#000015"
            ],
            [
             0.5555555555555556,
             "#000016"
            ],
            [
             0.6666666666666666,
             "#000017"
            ],
            [
             0.7777777777777778,
             "#000018"
            ],
            [
             0.8888888888888888,
             "#000019"
            ],
            [
             1,
             "#000020"
            ]
           ]
          },
          "colorscale": {
           "diverging": [
            [
             0,
             "#000021"
            ],
            [
             0.1,
             "#000022"
            ],
            [
             0.2,
             "#000023"
            ],
            [
             0.3,
             "#000024"
            ],
            [
             0.4,
             "#000025"
            ],
            [
             0.5,
             "#000026"
            ],
            [
             0.6,
             "#000027"
            ],
            [
             0.7,
             "#000028"
            ],
            [
             0.8,
             "#000029"
            ],
            [
             0.9,
             "#000030"
            ],
            [
             1,
             "#000031"
            ]
           ],
           "sequential": [
            [
             0,
             "#000011"
            ],
            [
             0.1111111111111111,
             "#000012"
            ],
            [
             0.2222222222222222,
             "#000013"
            ],
            [
             0.3333333333333333,
             "#000014"
            ],
            [
             0.4444444444444444,
             "#000015"
            ],
            [
             0.5555555555555556,
             "#000016"
            ],
            [
             0.6666666666666666,
             "#000017"
            ],
            [
             0.7777777777777778,
             "#000018"
            ],
            [
             0.8888888888888888,
             "#000019"
            ],
            [
             1,
             "#000020"
            ]
           ],
           "sequentialminus": [
            [
             0,
             "#000011"
            ],
            [
             0.1111111111111111,
             "#000012"
            ],
            [
             0.2222222222222222,
             "#000013"
            ],
            [
             0.3333333333333333,
             "#000014"
            ],
            [
             0.4444444444444444,
             "#000015"
            ],
            [
             0.5555555555555556,
             "#000016"
            ],
            [
             0.6666666666666666,
             "#000017"
            ],
            [
             0.7777777777777778,
             "#000018"
            ],
            [
             0.8888888888888888,
             "#000019"
            ],
            [
             1,
             "#000020"
            ]
           ]
          },
          "colorway": [
           "#000001",
           "#000002",
           "#000003",
           "#000004",
           "#000005",
           "#000006",
           "#000007",
           "#000008",
           "#000009",
           "#000010"
          ]
         }
        },
        "width": 1000,
        "xaxis": {
         "anchor": "y",
         "constrain": "domain",
         "domain": [
          0,
          1
         ],
         "dtick": 1,
         "scaleanchor": "y",
         "side": "top",
         "title": {
          "text": ""
         }
        },
        "yaxis": {
         "anchor": "x",
         "autorange": "reversed",
         "constrain": "domain",
         "domain": [
          0,
          1
         ],
         "dtick": 1,
         "title": {
          "text": ""
         }
        }
       }
      }
     },
     "metadata": {},
     "output_type": "display_data"
    }
   ],
   "source": [
    "import plotly.express as px\n",
    "fig = px.imshow(hm,\n",
    "                labels=dict(x=\"Topic\", y=\"Publisher\", color=\"Count\"),\n",
    "                y=hm['Topics'],\n",
    "                x=hm.columns,\n",
    "                # color_continuous_scale='YlOrRd',\n",
    "                color_continuous_scale='RdPu',\n",
    "                #text_auto=True,\n",
    "                width=1000,\n",
    "                height=1000\n",
    "               )\n",
    "fig.update_xaxes(side=\"top\", title=\"\")\n",
    "fig.update_yaxes(title=\"\")\n",
    "fig.update_layout(margin={\"t\":200,\"b\":50}, yaxis={\"dtick\":1},  xaxis={\"dtick\":1})\n",
    "fig.layout.coloraxis.showscale = False\n",
    "fig.update_layout(dragmode='pan')\n",
    "\n",
    "fig.show()"
   ]
  },
  {
   "cell_type": "code",
   "execution_count": 168,
   "metadata": {},
   "outputs": [
    {
     "name": "stdout",
     "output_type": "stream",
     "text": [
      "<class 'function'>\n"
     ]
    }
   ],
   "source": [
    "def funny(arg1):\n",
    "    print(ar1)\n",
    "    return None\n",
    "\n",
    "print(type(funny))"
   ]
  },
  {
   "cell_type": "code",
   "execution_count": 3,
   "metadata": {},
   "outputs": [],
   "source": [
    "countries_df = utils.load_data('Data', workbook=WORKBOOK, schema=None)"
   ]
  },
  {
   "cell_type": "code",
   "execution_count": 4,
   "metadata": {},
   "outputs": [
    {
     "data": {
      "text/html": [
       "<div><style>\n",
       ".dataframe > thead > tr,\n",
       ".dataframe > tbody > tr {\n",
       "  text-align: right;\n",
       "  white-space: pre-wrap;\n",
       "}\n",
       "</style>\n",
       "<small>shape: (5, 7)</small><table border=\"1\" class=\"dataframe\"><thead><tr><th>column_0</th><th>column_1</th><th>column_2</th><th>column_3</th><th>column_4</th><th>column_5</th><th>column_6</th></tr><tr><td>str</td><td>str</td><td>str</td><td>null</td><td>str</td><td>null</td><td>str</td></tr></thead><tbody><tr><td>&quot;Afghanistan&quot;</td><td>&quot;AF&quot;</td><td>&quot;AFG&quot;</td><td>null</td><td>&quot;Male&quot;</td><td>null</td><td>&quot;Yes&quot;</td></tr><tr><td>&quot;Åland Islands&quot;</td><td>&quot;AX&quot;</td><td>&quot;ALA&quot;</td><td>null</td><td>&quot;Female&quot;</td><td>null</td><td>&quot;No&quot;</td></tr><tr><td>&quot;Albania&quot;</td><td>&quot;AL&quot;</td><td>&quot;ALB&quot;</td><td>null</td><td>&quot;Non binary&quot;</td><td>null</td><td>&quot;Unknown&quot;</td></tr><tr><td>&quot;Algeria&quot;</td><td>&quot;DZ&quot;</td><td>&quot;DZA&quot;</td><td>null</td><td>&quot;Other&quot;</td><td>null</td><td>null</td></tr><tr><td>&quot;American Samoa&quot;</td><td>&quot;AS&quot;</td><td>&quot;ASM&quot;</td><td>null</td><td>&quot;Unknown&quot;</td><td>null</td><td>null</td></tr></tbody></table></div>"
      ],
      "text/plain": [
       "shape: (5, 7)\n",
       "┌────────────────┬──────────┬──────────┬──────────┬────────────┬──────────┬──────────┐\n",
       "│ column_0       ┆ column_1 ┆ column_2 ┆ column_3 ┆ column_4   ┆ column_5 ┆ column_6 │\n",
       "│ ---            ┆ ---      ┆ ---      ┆ ---      ┆ ---        ┆ ---      ┆ ---      │\n",
       "│ str            ┆ str      ┆ str      ┆ null     ┆ str        ┆ null     ┆ str      │\n",
       "╞════════════════╪══════════╪══════════╪══════════╪════════════╪══════════╪══════════╡\n",
       "│ Afghanistan    ┆ AF       ┆ AFG      ┆ null     ┆ Male       ┆ null     ┆ Yes      │\n",
       "│ Åland Islands  ┆ AX       ┆ ALA      ┆ null     ┆ Female     ┆ null     ┆ No       │\n",
       "│ Albania        ┆ AL       ┆ ALB      ┆ null     ┆ Non binary ┆ null     ┆ Unknown  │\n",
       "│ Algeria        ┆ DZ       ┆ DZA      ┆ null     ┆ Other      ┆ null     ┆ null     │\n",
       "│ American Samoa ┆ AS       ┆ ASM      ┆ null     ┆ Unknown    ┆ null     ┆ null     │\n",
       "└────────────────┴──────────┴──────────┴──────────┴────────────┴──────────┴──────────┘"
      ]
     },
     "execution_count": 4,
     "metadata": {},
     "output_type": "execute_result"
    }
   ],
   "source": [
    "countries_df.head()"
   ]
  },
  {
   "cell_type": "code",
   "execution_count": 5,
   "metadata": {},
   "outputs": [],
   "source": [
    "author_df = utils.load_data('Authors', schema=schemas.author_schema, workbook=WORKBOOK)\n",
    "map_df = author_df.join(countries_df, left_on='Country of Birth', right_on='column_0', how='left')\n"
   ]
  },
  {
   "cell_type": "code",
   "execution_count": 18,
   "metadata": {},
   "outputs": [],
   "source": [
    "map_group = map_df.group_by([pl.col('Country of Birth'), pl.col('column_2').alias('Alpha3Code')]).agg(pl.col('Author Name').count().alias('Count'))\n",
    "map_group = map_group.with_columns(\n",
    "    pl.col('Count').cast(int)\n",
    ")"
   ]
  },
  {
   "cell_type": "code",
   "execution_count": 19,
   "metadata": {},
   "outputs": [
    {
     "data": {
      "text/html": [
       "<div><style>\n",
       ".dataframe > thead > tr,\n",
       ".dataframe > tbody > tr {\n",
       "  text-align: right;\n",
       "  white-space: pre-wrap;\n",
       "}\n",
       "</style>\n",
       "<small>shape: (11, 3)</small><table border=\"1\" class=\"dataframe\"><thead><tr><th>Country of Birth</th><th>Alpha3Code</th><th>Count</th></tr><tr><td>str</td><td>str</td><td>i64</td></tr></thead><tbody><tr><td>&quot;China&quot;</td><td>&quot;CHN&quot;</td><td>1</td></tr><tr><td>&quot;Colombia&quot;</td><td>&quot;COL&quot;</td><td>1</td></tr><tr><td>&quot;Bangladesh&quot;</td><td>&quot;BGD&quot;</td><td>1</td></tr><tr><td>&quot;Belgium&quot;</td><td>&quot;BEL&quot;</td><td>1</td></tr><tr><td>&quot;Sweden&quot;</td><td>&quot;SWE&quot;</td><td>1</td></tr><tr><td>&hellip;</td><td>&hellip;</td><td>&hellip;</td></tr><tr><td>&quot;Ireland&quot;</td><td>&quot;IRL&quot;</td><td>3</td></tr><tr><td>&quot;United Kingdom of Great Britai…</td><td>&quot;GBR&quot;</td><td>11</td></tr><tr><td>&quot;United States of America&quot;</td><td>&quot;USA&quot;</td><td>14</td></tr><tr><td>&quot;Korea, Republic of&quot;</td><td>&quot;KOR&quot;</td><td>1</td></tr><tr><td>&quot;Japan&quot;</td><td>&quot;JPN&quot;</td><td>1</td></tr></tbody></table></div>"
      ],
      "text/plain": [
       "shape: (11, 3)\n",
       "┌─────────────────────────────────┬────────────┬───────┐\n",
       "│ Country of Birth                ┆ Alpha3Code ┆ Count │\n",
       "│ ---                             ┆ ---        ┆ ---   │\n",
       "│ str                             ┆ str        ┆ i64   │\n",
       "╞═════════════════════════════════╪════════════╪═══════╡\n",
       "│ China                           ┆ CHN        ┆ 1     │\n",
       "│ Colombia                        ┆ COL        ┆ 1     │\n",
       "│ Bangladesh                      ┆ BGD        ┆ 1     │\n",
       "│ Belgium                         ┆ BEL        ┆ 1     │\n",
       "│ Sweden                          ┆ SWE        ┆ 1     │\n",
       "│ …                               ┆ …          ┆ …     │\n",
       "│ Ireland                         ┆ IRL        ┆ 3     │\n",
       "│ United Kingdom of Great Britai… ┆ GBR        ┆ 11    │\n",
       "│ United States of America        ┆ USA        ┆ 14    │\n",
       "│ Korea, Republic of              ┆ KOR        ┆ 1     │\n",
       "│ Japan                           ┆ JPN        ┆ 1     │\n",
       "└─────────────────────────────────┴────────────┴───────┘"
      ]
     },
     "execution_count": 19,
     "metadata": {},
     "output_type": "execute_result"
    }
   ],
   "source": [
    "map_group"
   ]
  },
  {
   "cell_type": "code",
   "execution_count": 22,
   "metadata": {},
   "outputs": [
    {
     "data": {
      "application/vnd.plotly.v1+json": {
       "config": {
        "plotlyServerURL": "https://plot.ly"
       },
       "data": [
        {
         "coloraxis": "coloraxis",
         "geo": "geo",
         "hovertemplate": "<b>%{hovertext}</b><br><br>Alpha3Code=%{location}<br>Count=%{z}<extra></extra>",
         "hovertext": [
          "China",
          "Colombia",
          "Bangladesh",
          "Belgium",
          "Sweden",
          "Australia",
          "Ireland",
          "United Kingdom of Great Britain and Northern Ireland",
          "United States of America",
          "Korea, Republic of",
          "Japan"
         ],
         "locations": [
          "CHN",
          "COL",
          "BGD",
          "BEL",
          "SWE",
          "AUS",
          "IRL",
          "GBR",
          "USA",
          "KOR",
          "JPN"
         ],
         "name": "",
         "type": "choropleth",
         "z": [
          1,
          1,
          1,
          1,
          1,
          1,
          3,
          11,
          14,
          1,
          1
         ]
        }
       ],
       "layout": {
        "coloraxis": {
         "colorbar": {
          "title": {
           "text": "Count"
          }
         },
         "colorscale": [
          [
           0,
           "#0d0887"
          ],
          [
           0.1111111111111111,
           "#46039f"
          ],
          [
           0.2222222222222222,
           "#7201a8"
          ],
          [
           0.3333333333333333,
           "#9c179e"
          ],
          [
           0.4444444444444444,
           "#bd3786"
          ],
          [
           0.5555555555555556,
           "#d8576b"
          ],
          [
           0.6666666666666666,
           "#ed7953"
          ],
          [
           0.7777777777777778,
           "#fb9f3a"
          ],
          [
           0.8888888888888888,
           "#fdca26"
          ],
          [
           1,
           "#f0f921"
          ]
         ]
        },
        "geo": {
         "center": {},
         "domain": {
          "x": [
           0,
           1
          ],
          "y": [
           0,
           1
          ]
         }
        },
        "legend": {
         "tracegroupgap": 0
        },
        "margin": {
         "t": 60
        },
        "template": {
         "data": {
          "candlestick": [
           {
            "decreasing": {
             "line": {
              "color": "#000033"
             }
            },
            "increasing": {
             "line": {
              "color": "#000032"
             }
            },
            "type": "candlestick"
           }
          ],
          "contour": [
           {
            "colorscale": [
             [
              0,
              "#000011"
             ],
             [
              0.1111111111111111,
              "#000012"
             ],
             [
              0.2222222222222222,
              "#000013"
             ],
             [
              0.3333333333333333,
              "#000014"
             ],
             [
              0.4444444444444444,
              "#000015"
             ],
             [
              0.5555555555555556,
              "#000016"
             ],
             [
              0.6666666666666666,
              "#000017"
             ],
             [
              0.7777777777777778,
              "#000018"
             ],
             [
              0.8888888888888888,
              "#000019"
             ],
             [
              1,
              "#000020"
             ]
            ],
            "type": "contour"
           }
          ],
          "contourcarpet": [
           {
            "colorscale": [
             [
              0,
              "#000011"
             ],
             [
              0.1111111111111111,
              "#000012"
             ],
             [
              0.2222222222222222,
              "#000013"
             ],
             [
              0.3333333333333333,
              "#000014"
             ],
             [
              0.4444444444444444,
              "#000015"
             ],
             [
              0.5555555555555556,
              "#000016"
             ],
             [
              0.6666666666666666,
              "#000017"
             ],
             [
              0.7777777777777778,
              "#000018"
             ],
             [
              0.8888888888888888,
              "#000019"
             ],
             [
              1,
              "#000020"
             ]
            ],
            "type": "contourcarpet"
           }
          ],
          "heatmap": [
           {
            "colorscale": [
             [
              0,
              "#000011"
             ],
             [
              0.1111111111111111,
              "#000012"
             ],
             [
              0.2222222222222222,
              "#000013"
             ],
             [
              0.3333333333333333,
              "#000014"
             ],
             [
              0.4444444444444444,
              "#000015"
             ],
             [
              0.5555555555555556,
              "#000016"
             ],
             [
              0.6666666666666666,
              "#000017"
             ],
             [
              0.7777777777777778,
              "#000018"
             ],
             [
              0.8888888888888888,
              "#000019"
             ],
             [
              1,
              "#000020"
             ]
            ],
            "type": "heatmap"
           }
          ],
          "histogram2d": [
           {
            "colorscale": [
             [
              0,
              "#000011"
             ],
             [
              0.1111111111111111,
              "#000012"
             ],
             [
              0.2222222222222222,
              "#000013"
             ],
             [
              0.3333333333333333,
              "#000014"
             ],
             [
              0.4444444444444444,
              "#000015"
             ],
             [
              0.5555555555555556,
              "#000016"
             ],
             [
              0.6666666666666666,
              "#000017"
             ],
             [
              0.7777777777777778,
              "#000018"
             ],
             [
              0.8888888888888888,
              "#000019"
             ],
             [
              1,
              "#000020"
             ]
            ],
            "type": "histogram2d"
           }
          ],
          "icicle": [
           {
            "textfont": {
             "color": "white"
            },
            "type": "icicle"
           }
          ],
          "sankey": [
           {
            "textfont": {
             "color": "#000036"
            },
            "type": "sankey"
           }
          ],
          "scatter": [
           {
            "marker": {
             "line": {
              "width": 0
             }
            },
            "type": "scatter"
           }
          ],
          "table": [
           {
            "cells": {
             "fill": {
              "color": "#000038"
             },
             "font": {
              "color": "#000037"
             },
             "line": {
              "color": "#000039"
             }
            },
            "header": {
             "fill": {
              "color": "#000040"
             },
             "font": {
              "color": "#000036"
             },
             "line": {
              "color": "#000039"
             }
            },
            "type": "table"
           }
          ],
          "waterfall": [
           {
            "connector": {
             "line": {
              "color": "#000036",
              "width": 2
             }
            },
            "decreasing": {
             "marker": {
              "color": "#000033"
             }
            },
            "increasing": {
             "marker": {
              "color": "#000032"
             }
            },
            "totals": {
             "marker": {
              "color": "#000034"
             }
            },
            "type": "waterfall"
           }
          ]
         },
         "layout": {
          "coloraxis": {
           "colorscale": [
            [
             0,
             "#000011"
            ],
            [
             0.1111111111111111,
             "#000012"
            ],
            [
             0.2222222222222222,
             "#000013"
            ],
            [
             0.3333333333333333,
             "#000014"
            ],
            [
             0.4444444444444444,
             "#000015"
            ],
            [
             0.5555555555555556,
             "#000016"
            ],
            [
             0.6666666666666666,
             "#000017"
            ],
            [
             0.7777777777777778,
             "#000018"
            ],
            [
             0.8888888888888888,
             "#000019"
            ],
            [
             1,
             "#000020"
            ]
           ]
          },
          "colorscale": {
           "diverging": [
            [
             0,
             "#000021"
            ],
            [
             0.1,
             "#000022"
            ],
            [
             0.2,
             "#000023"
            ],
            [
             0.3,
             "#000024"
            ],
            [
             0.4,
             "#000025"
            ],
            [
             0.5,
             "#000026"
            ],
            [
             0.6,
             "#000027"
            ],
            [
             0.7,
             "#000028"
            ],
            [
             0.8,
             "#000029"
            ],
            [
             0.9,
             "#000030"
            ],
            [
             1,
             "#000031"
            ]
           ],
           "sequential": [
            [
             0,
             "#000011"
            ],
            [
             0.1111111111111111,
             "#000012"
            ],
            [
             0.2222222222222222,
             "#000013"
            ],
            [
             0.3333333333333333,
             "#000014"
            ],
            [
             0.4444444444444444,
             "#000015"
            ],
            [
             0.5555555555555556,
             "#000016"
            ],
            [
             0.6666666666666666,
             "#000017"
            ],
            [
             0.7777777777777778,
             "#000018"
            ],
            [
             0.8888888888888888,
             "#000019"
            ],
            [
             1,
             "#000020"
            ]
           ],
           "sequentialminus": [
            [
             0,
             "#000011"
            ],
            [
             0.1111111111111111,
             "#000012"
            ],
            [
             0.2222222222222222,
             "#000013"
            ],
            [
             0.3333333333333333,
             "#000014"
            ],
            [
             0.4444444444444444,
             "#000015"
            ],
            [
             0.5555555555555556,
             "#000016"
            ],
            [
             0.6666666666666666,
             "#000017"
            ],
            [
             0.7777777777777778,
             "#000018"
            ],
            [
             0.8888888888888888,
             "#000019"
            ],
            [
             1,
             "#000020"
            ]
           ]
          },
          "colorway": [
           "#000001",
           "#000002",
           "#000003",
           "#000004",
           "#000005",
           "#000006",
           "#000007",
           "#000008",
           "#000009",
           "#000010"
          ]
         }
        }
       }
      }
     },
     "metadata": {},
     "output_type": "display_data"
    }
   ],
   "source": [
    "map_fig = px.choropleth(map_group, locations=\"Alpha3Code\",\n",
    "                color=\"Count\",\n",
    "                hover_name=\"Country of Birth\",\n",
    "                color_continuous_scale=px.colors.sequential.Plasma)\n",
    "\n",
    "map_fig.show()"
   ]
  },
  {
   "cell_type": "code",
   "execution_count": 19,
   "metadata": {},
   "outputs": [
    {
     "data": {
      "application/vnd.plotly.v1+json": {
       "config": {
        "plotlyServerURL": "https://plot.ly"
       },
       "data": [
        {
         "alignmentgroup": "True",
         "bingroup": "x",
         "hovertemplate": "Pages=%{x}<br>count=%{y}<extra></extra>",
         "legendgroup": "",
         "marker": {
          "color": "#000001",
          "pattern": {
           "shape": ""
          }
         },
         "name": "",
         "nbinsx": 10,
         "offsetgroup": "",
         "orientation": "v",
         "showlegend": false,
         "type": "histogram",
         "x": [
          560,
          416,
          560,
          336,
          208,
          736,
          288,
          400,
          352,
          320,
          192,
          384,
          368,
          336,
          288,
          560,
          352,
          288,
          240,
          512,
          400,
          320,
          320,
          352,
          480,
          112,
          192,
          368,
          240,
          144,
          320,
          400,
          240,
          336,
          464,
          368,
          null,
          null,
          null
         ],
         "xaxis": "x",
         "yaxis": "y"
        }
       ],
       "layout": {
        "barmode": "relative",
        "legend": {
         "tracegroupgap": 0
        },
        "margin": {
         "t": 60
        },
        "template": {
         "data": {
          "candlestick": [
           {
            "decreasing": {
             "line": {
              "color": "#000033"
             }
            },
            "increasing": {
             "line": {
              "color": "#000032"
             }
            },
            "type": "candlestick"
           }
          ],
          "contour": [
           {
            "colorscale": [
             [
              0,
              "#000011"
             ],
             [
              0.1111111111111111,
              "#000012"
             ],
             [
              0.2222222222222222,
              "#000013"
             ],
             [
              0.3333333333333333,
              "#000014"
             ],
             [
              0.4444444444444444,
              "#000015"
             ],
             [
              0.5555555555555556,
              "#000016"
             ],
             [
              0.6666666666666666,
              "#000017"
             ],
             [
              0.7777777777777778,
              "#000018"
             ],
             [
              0.8888888888888888,
              "#000019"
             ],
             [
              1,
              "#000020"
             ]
            ],
            "type": "contour"
           }
          ],
          "contourcarpet": [
           {
            "colorscale": [
             [
              0,
              "#000011"
             ],
             [
              0.1111111111111111,
              "#000012"
             ],
             [
              0.2222222222222222,
              "#000013"
             ],
             [
              0.3333333333333333,
              "#000014"
             ],
             [
              0.4444444444444444,
              "#000015"
             ],
             [
              0.5555555555555556,
              "#000016"
             ],
             [
              0.6666666666666666,
              "#000017"
             ],
             [
              0.7777777777777778,
              "#000018"
             ],
             [
              0.8888888888888888,
              "#000019"
             ],
             [
              1,
              "#000020"
             ]
            ],
            "type": "contourcarpet"
           }
          ],
          "heatmap": [
           {
            "colorscale": [
             [
              0,
              "#000011"
             ],
             [
              0.1111111111111111,
              "#000012"
             ],
             [
              0.2222222222222222,
              "#000013"
             ],
             [
              0.3333333333333333,
              "#000014"
             ],
             [
              0.4444444444444444,
              "#000015"
             ],
             [
              0.5555555555555556,
              "#000016"
             ],
             [
              0.6666666666666666,
              "#000017"
             ],
             [
              0.7777777777777778,
              "#000018"
             ],
             [
              0.8888888888888888,
              "#000019"
             ],
             [
              1,
              "#000020"
             ]
            ],
            "type": "heatmap"
           }
          ],
          "histogram2d": [
           {
            "colorscale": [
             [
              0,
              "#000011"
             ],
             [
              0.1111111111111111,
              "#000012"
             ],
             [
              0.2222222222222222,
              "#000013"
             ],
             [
              0.3333333333333333,
              "#000014"
             ],
             [
              0.4444444444444444,
              "#000015"
             ],
             [
              0.5555555555555556,
              "#000016"
             ],
             [
              0.6666666666666666,
              "#000017"
             ],
             [
              0.7777777777777778,
              "#000018"
             ],
             [
              0.8888888888888888,
              "#000019"
             ],
             [
              1,
              "#000020"
             ]
            ],
            "type": "histogram2d"
           }
          ],
          "icicle": [
           {
            "textfont": {
             "color": "white"
            },
            "type": "icicle"
           }
          ],
          "sankey": [
           {
            "textfont": {
             "color": "#000036"
            },
            "type": "sankey"
           }
          ],
          "scatter": [
           {
            "marker": {
             "line": {
              "width": 0
             }
            },
            "type": "scatter"
           }
          ],
          "table": [
           {
            "cells": {
             "fill": {
              "color": "#000038"
             },
             "font": {
              "color": "#000037"
             },
             "line": {
              "color": "#000039"
             }
            },
            "header": {
             "fill": {
              "color": "#000040"
             },
             "font": {
              "color": "#000036"
             },
             "line": {
              "color": "#000039"
             }
            },
            "type": "table"
           }
          ],
          "waterfall": [
           {
            "connector": {
             "line": {
              "color": "#000036",
              "width": 2
             }
            },
            "decreasing": {
             "marker": {
              "color": "#000033"
             }
            },
            "increasing": {
             "marker": {
              "color": "#000032"
             }
            },
            "totals": {
             "marker": {
              "color": "#000034"
             }
            },
            "type": "waterfall"
           }
          ]
         },
         "layout": {
          "coloraxis": {
           "colorscale": [
            [
             0,
             "#000011"
            ],
            [
             0.1111111111111111,
             "#000012"
            ],
            [
             0.2222222222222222,
             "#000013"
            ],
            [
             0.3333333333333333,
             "#000014"
            ],
            [
             0.4444444444444444,
             "#000015"
            ],
            [
             0.5555555555555556,
             "#000016"
            ],
            [
             0.6666666666666666,
             "#000017"
            ],
            [
             0.7777777777777778,
             "#000018"
            ],
            [
             0.8888888888888888,
             "#000019"
            ],
            [
             1,
             "#000020"
            ]
           ]
          },
          "colorscale": {
           "diverging": [
            [
             0,
             "#000021"
            ],
            [
             0.1,
             "#000022"
            ],
            [
             0.2,
             "#000023"
            ],
            [
             0.3,
             "#000024"
            ],
            [
             0.4,
             "#000025"
            ],
            [
             0.5,
             "#000026"
            ],
            [
             0.6,
             "#000027"
            ],
            [
             0.7,
             "#000028"
            ],
            [
             0.8,
             "#000029"
            ],
            [
             0.9,
             "#000030"
            ],
            [
             1,
             "#000031"
            ]
           ],
           "sequential": [
            [
             0,
             "#000011"
            ],
            [
             0.1111111111111111,
             "#000012"
            ],
            [
             0.2222222222222222,
             "#000013"
            ],
            [
             0.3333333333333333,
             "#000014"
            ],
            [
             0.4444444444444444,
             "#000015"
            ],
            [
             0.5555555555555556,
             "#000016"
            ],
            [
             0.6666666666666666,
             "#000017"
            ],
            [
             0.7777777777777778,
             "#000018"
            ],
            [
             0.8888888888888888,
             "#000019"
            ],
            [
             1,
             "#000020"
            ]
           ],
           "sequentialminus": [
            [
             0,
             "#000011"
            ],
            [
             0.1111111111111111,
             "#000012"
            ],
            [
             0.2222222222222222,
             "#000013"
            ],
            [
             0.3333333333333333,
             "#000014"
            ],
            [
             0.4444444444444444,
             "#000015"
            ],
            [
             0.5555555555555556,
             "#000016"
            ],
            [
             0.6666666666666666,
             "#000017"
            ],
            [
             0.7777777777777778,
             "#000018"
            ],
            [
             0.8888888888888888,
             "#000019"
            ],
            [
             1,
             "#000020"
            ]
           ]
          },
          "colorway": [
           "#000001",
           "#000002",
           "#000003",
           "#000004",
           "#000005",
           "#000006",
           "#000007",
           "#000008",
           "#000009",
           "#000010"
          ]
         }
        },
        "xaxis": {
         "anchor": "y",
         "domain": [
          0,
          1
         ],
         "title": {
          "text": "Pages"
         }
        },
        "yaxis": {
         "anchor": "x",
         "domain": [
          0,
          1
         ],
         "title": {
          "text": "count"
         }
        }
       }
      }
     },
     "metadata": {},
     "output_type": "display_data"
    }
   ],
   "source": [
    "import plotly.express as px\n",
    "df = px.data.tips()\n",
    "fig = px.histogram(main_df, x=\"Pages\", nbins=10)\n",
    "fig.show()"
   ]
  },
  {
   "cell_type": "code",
   "execution_count": 35,
   "metadata": {},
   "outputs": [
    {
     "data": {
      "application/vnd.plotly.v1+json": {
       "config": {
        "plotlyServerURL": "https://plot.ly"
       },
       "data": [
        {
         "name": "Pages",
         "type": "histogram",
         "x": [
          560,
          416,
          560,
          336,
          208,
          736,
          288,
          400,
          352,
          320,
          192,
          384,
          368,
          336,
          288,
          560,
          352,
          288,
          240,
          512,
          400,
          320,
          320,
          352,
          480,
          112,
          192,
          368,
          240,
          144,
          320,
          400,
          240,
          336,
          464,
          368,
          null,
          null,
          null
         ],
         "xaxis": "x",
         "yaxis": "y"
        },
        {
         "name": "Score",
         "type": "histogram",
         "x": [
          8.192,
          7.84,
          7.7,
          7.66,
          7.51,
          7.41,
          7.34,
          7.32,
          7.09,
          7.04,
          7,
          6.9,
          6.83,
          6.82,
          6.81,
          6.77,
          6.74,
          6.66,
          6.63,
          6.41,
          6.4,
          6.4,
          6.26,
          6.23,
          6.22,
          6.11,
          6.1,
          6.09,
          5.8,
          5.65,
          5.48,
          5.38,
          4.64,
          4.63,
          6.58,
          null,
          null,
          null,
          null
         ],
         "xaxis": "x2",
         "yaxis": "y2"
        }
       ],
       "layout": {
        "annotations": [
         {
          "font": {
           "size": 16
          },
          "showarrow": false,
          "text": "Number of Pages Distribution",
          "x": 0.5,
          "xanchor": "center",
          "xref": "paper",
          "y": 1,
          "yanchor": "bottom",
          "yref": "paper"
         },
         {
          "font": {
           "size": 16
          },
          "showarrow": false,
          "text": "Score Distribution",
          "x": 0.5,
          "xanchor": "center",
          "xref": "paper",
          "y": 0.375,
          "yanchor": "bottom",
          "yref": "paper"
         }
        ],
        "template": {
         "data": {
          "candlestick": [
           {
            "decreasing": {
             "line": {
              "color": "#000033"
             }
            },
            "increasing": {
             "line": {
              "color": "#000032"
             }
            },
            "type": "candlestick"
           }
          ],
          "contour": [
           {
            "colorscale": [
             [
              0,
              "#000011"
             ],
             [
              0.1111111111111111,
              "#000012"
             ],
             [
              0.2222222222222222,
              "#000013"
             ],
             [
              0.3333333333333333,
              "#000014"
             ],
             [
              0.4444444444444444,
              "#000015"
             ],
             [
              0.5555555555555556,
              "#000016"
             ],
             [
              0.6666666666666666,
              "#000017"
             ],
             [
              0.7777777777777778,
              "#000018"
             ],
             [
              0.8888888888888888,
              "#000019"
             ],
             [
              1,
              "#000020"
             ]
            ],
            "type": "contour"
           }
          ],
          "contourcarpet": [
           {
            "colorscale": [
             [
              0,
              "#000011"
             ],
             [
              0.1111111111111111,
              "#000012"
             ],
             [
              0.2222222222222222,
              "#000013"
             ],
             [
              0.3333333333333333,
              "#000014"
             ],
             [
              0.4444444444444444,
              "#000015"
             ],
             [
              0.5555555555555556,
              "#000016"
             ],
             [
              0.6666666666666666,
              "#000017"
             ],
             [
              0.7777777777777778,
              "#000018"
             ],
             [
              0.8888888888888888,
              "#000019"
             ],
             [
              1,
              "#000020"
             ]
            ],
            "type": "contourcarpet"
           }
          ],
          "heatmap": [
           {
            "colorscale": [
             [
              0,
              "#000011"
             ],
             [
              0.1111111111111111,
              "#000012"
             ],
             [
              0.2222222222222222,
              "#000013"
             ],
             [
              0.3333333333333333,
              "#000014"
             ],
             [
              0.4444444444444444,
              "#000015"
             ],
             [
              0.5555555555555556,
              "#000016"
             ],
             [
              0.6666666666666666,
              "#000017"
             ],
             [
              0.7777777777777778,
              "#000018"
             ],
             [
              0.8888888888888888,
              "#000019"
             ],
             [
              1,
              "#000020"
             ]
            ],
            "type": "heatmap"
           }
          ],
          "histogram2d": [
           {
            "colorscale": [
             [
              0,
              "#000011"
             ],
             [
              0.1111111111111111,
              "#000012"
             ],
             [
              0.2222222222222222,
              "#000013"
             ],
             [
              0.3333333333333333,
              "#000014"
             ],
             [
              0.4444444444444444,
              "#000015"
             ],
             [
              0.5555555555555556,
              "#000016"
             ],
             [
              0.6666666666666666,
              "#000017"
             ],
             [
              0.7777777777777778,
              "#000018"
             ],
             [
              0.8888888888888888,
              "#000019"
             ],
             [
              1,
              "#000020"
             ]
            ],
            "type": "histogram2d"
           }
          ],
          "icicle": [
           {
            "textfont": {
             "color": "white"
            },
            "type": "icicle"
           }
          ],
          "sankey": [
           {
            "textfont": {
             "color": "#000036"
            },
            "type": "sankey"
           }
          ],
          "scatter": [
           {
            "marker": {
             "line": {
              "width": 0
             }
            },
            "type": "scatter"
           }
          ],
          "table": [
           {
            "cells": {
             "fill": {
              "color": "#000038"
             },
             "font": {
              "color": "#000037"
             },
             "line": {
              "color": "#000039"
             }
            },
            "header": {
             "fill": {
              "color": "#000040"
             },
             "font": {
              "color": "#000036"
             },
             "line": {
              "color": "#000039"
             }
            },
            "type": "table"
           }
          ],
          "waterfall": [
           {
            "connector": {
             "line": {
              "color": "#000036",
              "width": 2
             }
            },
            "decreasing": {
             "marker": {
              "color": "#000033"
             }
            },
            "increasing": {
             "marker": {
              "color": "#000032"
             }
            },
            "totals": {
             "marker": {
              "color": "#000034"
             }
            },
            "type": "waterfall"
           }
          ]
         },
         "layout": {
          "coloraxis": {
           "colorscale": [
            [
             0,
             "#000011"
            ],
            [
             0.1111111111111111,
             "#000012"
            ],
            [
             0.2222222222222222,
             "#000013"
            ],
            [
             0.3333333333333333,
             "#000014"
            ],
            [
             0.4444444444444444,
             "#000015"
            ],
            [
             0.5555555555555556,
             "#000016"
            ],
            [
             0.6666666666666666,
             "#000017"
            ],
            [
             0.7777777777777778,
             "#000018"
            ],
            [
             0.8888888888888888,
             "#000019"
            ],
            [
             1,
             "#000020"
            ]
           ]
          },
          "colorscale": {
           "diverging": [
            [
             0,
             "#000021"
            ],
            [
             0.1,
             "#000022"
            ],
            [
             0.2,
             "#000023"
            ],
            [
             0.3,
             "#000024"
            ],
            [
             0.4,
             "#000025"
            ],
            [
             0.5,
             "#000026"
            ],
            [
             0.6,
             "#000027"
            ],
            [
             0.7,
             "#000028"
            ],
            [
             0.8,
             "#000029"
            ],
            [
             0.9,
             "#000030"
            ],
            [
             1,
             "#000031"
            ]
           ],
           "sequential": [
            [
             0,
             "#000011"
            ],
            [
             0.1111111111111111,
             "#000012"
            ],
            [
             0.2222222222222222,
             "#000013"
            ],
            [
             0.3333333333333333,
             "#000014"
            ],
            [
             0.4444444444444444,
             "#000015"
            ],
            [
             0.5555555555555556,
             "#000016"
            ],
            [
             0.6666666666666666,
             "#000017"
            ],
            [
             0.7777777777777778,
             "#000018"
            ],
            [
             0.8888888888888888,
             "#000019"
            ],
            [
             1,
             "#000020"
            ]
           ],
           "sequentialminus": [
            [
             0,
             "#000011"
            ],
            [
             0.1111111111111111,
             "#000012"
            ],
            [
             0.2222222222222222,
             "#000013"
            ],
            [
             0.3333333333333333,
             "#000014"
            ],
            [
             0.4444444444444444,
             "#000015"
            ],
            [
             0.5555555555555556,
             "#000016"
            ],
            [
             0.6666666666666666,
             "#000017"
            ],
            [
             0.7777777777777778,
             "#000018"
            ],
            [
             0.8888888888888888,
             "#000019"
            ],
            [
             1,
             "#000020"
            ]
           ]
          },
          "colorway": [
           "#000001",
           "#000002",
           "#000003",
           "#000004",
           "#000005",
           "#000006",
           "#000007",
           "#000008",
           "#000009",
           "#000010"
          ]
         }
        },
        "xaxis": {
         "anchor": "y",
         "domain": [
          0,
          1
         ]
        },
        "xaxis2": {
         "anchor": "y2",
         "domain": [
          0,
          1
         ]
        },
        "yaxis": {
         "anchor": "x",
         "domain": [
          0.625,
          1
         ]
        },
        "yaxis2": {
         "anchor": "x2",
         "domain": [
          0,
          0.375
         ]
        }
       }
      }
     },
     "metadata": {},
     "output_type": "display_data"
    }
   ],
   "source": [
    "import plotly.graph_objects as go\n",
    "from plotly.subplots import make_subplots\n",
    "\n",
    "#fig = go.Figure(data=[go.Histogram(x=main_df['Pages']), go.Histogram(x=main_df['Score'])])\n",
    "fig = make_subplots(rows=2, cols=1, subplot_titles=(\"Number of Pages Distribution\", \"Score Distribution\"))\n",
    "fig.add_trace(go.Histogram(x=main_df['Pages'], name=\"Pages\"), row=1, col=1)\n",
    "fig.add_trace(go.Histogram(x=main_df['Score'], name=\"Score\"), row=2, col=1)\n",
    "fig.show()"
   ]
  },
  {
   "cell_type": "code",
   "execution_count": 4,
   "metadata": {},
   "outputs": [
    {
     "name": "stdout",
     "output_type": "stream",
     "text": [
      "Berlin\n"
     ]
    }
   ],
   "source": [
    "cities = [\"Vancouver\", \"Oslo\", \"Berlin\", \"Krakow\", \"Graz\", \"Belgrade\"]\n",
    "\n",
    "if all(\"o\" in (counterexample := city) for city in cities):\n",
    "    print(\"All city names contain 'o'\")\n",
    "else:\n",
    "    print(counterexample)"
   ]
  },
  {
   "cell_type": "code",
   "execution_count": 5,
   "metadata": {},
   "outputs": [
    {
     "data": {
      "text/plain": [
       "False"
      ]
     },
     "execution_count": 5,
     "metadata": {},
     "output_type": "execute_result"
    }
   ],
   "source": [
    "all(\"o\" in (counterexample := city) for city in cities)"
   ]
  },
  {
   "cell_type": "code",
   "execution_count": 14,
   "metadata": {},
   "outputs": [
    {
     "ename": "TypeError",
     "evalue": "'bool' object is not iterable",
     "output_type": "error",
     "traceback": [
      "\u001b[1;31m---------------------------------------------------------------------------\u001b[0m",
      "\u001b[1;31mTypeError\u001b[0m                                 Traceback (most recent call last)",
      "Cell \u001b[1;32mIn[14], line 1\u001b[0m\n\u001b[1;32m----> 1\u001b[0m \u001b[38;5;28;43mall\u001b[39;49m\u001b[43m(\u001b[49m\u001b[43m \u001b[49m\u001b[38;5;124;43m\"\u001b[39;49m\u001b[38;5;124;43mo\u001b[39;49m\u001b[38;5;124;43m\"\u001b[39;49m\u001b[43m \u001b[49m\u001b[38;5;129;43;01min\u001b[39;49;00m\u001b[43m \u001b[49m\u001b[43m[\u001b[49m\u001b[43mcounterexample\u001b[49m\u001b[43m \u001b[49m\u001b[38;5;241;43m:=\u001b[39;49m\u001b[43m \u001b[49m\u001b[43mcity\u001b[49m\u001b[43m \u001b[49m\u001b[38;5;28;43;01mfor\u001b[39;49;00m\u001b[43m \u001b[49m\u001b[43mcity\u001b[49m\u001b[43m \u001b[49m\u001b[38;5;129;43;01min\u001b[39;49;00m\u001b[43m \u001b[49m\u001b[43mcities\u001b[49m\u001b[43m]\u001b[49m\u001b[43m)\u001b[49m\n",
      "\u001b[1;31mTypeError\u001b[0m: 'bool' object is not iterable"
     ]
    }
   ],
   "source": [
    "all(\"o\" in [counterexample := city for city in cities])"
   ]
  },
  {
   "cell_type": "code",
   "execution_count": null,
   "metadata": {},
   "outputs": [],
   "source": []
  }
 ],
 "metadata": {
  "kernelspec": {
   "display_name": "nlfb",
   "language": "python",
   "name": "python3"
  },
  "language_info": {
   "codemirror_mode": {
    "name": "ipython",
    "version": 3
   },
   "file_extension": ".py",
   "mimetype": "text/x-python",
   "name": "python",
   "nbconvert_exporter": "python",
   "pygments_lexer": "ipython3",
   "version": "3.12.5"
  }
 },
 "nbformat": 4,
 "nbformat_minor": 2
}
