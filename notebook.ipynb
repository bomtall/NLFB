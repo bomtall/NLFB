{
 "cells": [
  {
   "cell_type": "code",
   "execution_count": 1,
   "metadata": {},
   "outputs": [],
   "source": [
    "import toml\n",
    "import json\n",
    "import millify\n",
    "import gspread\n",
    "import requests\n",
    "import calendar\n",
    "import numpy as np\n",
    "import pandas as pd\n",
    "import polars as pl\n",
    "import datetime as dt\n",
    "import streamlit as st\n",
    "from millify import prettify\n",
    "import chart_functions as chart\n",
    "from lxml.html import fromstring\n",
    "from streamlit_gsheets import GSheetsConnection\n",
    "from google.oauth2.service_account import Credentials\n",
    "from oauth2client.service_account import ServiceAccountCredentials\n",
    "\n",
    "import schemas\n",
    "import chart_functions"
   ]
  },
  {
   "cell_type": "code",
   "execution_count": 2,
   "metadata": {},
   "outputs": [],
   "source": [
    "def load_environment_variables(secret_path):\n",
    "    return toml.load(secret_path)\n",
    "\n",
    "def authenticate(secrets, scope, workbook_name):\n",
    "    credentials_file = json.loads(str(environment['connections']['gsheets']).replace(\"'\", '\"').replace('\\r\\n', '\\\\r\\\\n'))\n",
    "    credentials = ServiceAccountCredentials.from_json_keyfile_dict(credentials_file, scopes=scope)\n",
    "    client = gspread.authorize(credentials)\n",
    "    wb = client.open(workbook_name)\n",
    "    return wb\n",
    "\n",
    "def pad_data(data, length):\n",
    "    padded_data = [[None if x == \"\" else x for x in row] + [None] * (length - len(row)) for row in data]\n",
    "    # for i in range(len(data)):\n",
    "        # data[i] = [None if x == \"\" else x for x in data[i]]\n",
    "        # data[i] = [row + [None] * (length - len(row)) for row in data]\n",
    "    return padded_data\n",
    "\n",
    "def load_data(sheet_name, schema):\n",
    "    sheet = WORKBOOK.worksheet(sheet_name)\n",
    "    data = sheet.get()\n",
    "    headers = data[0]\n",
    "    padded_data = pad_data(data[1:], len(headers))\n",
    "    loaded_dataframe = pl.DataFrame(padded_data, schema=schema, orient='row', strict=False)\n",
    "    return loaded_dataframe\n",
    "\n",
    "environment = load_environment_variables('.streamlit/secrets.toml')\n",
    "scope = environment['scopes']['scope']\n",
    "WORKBOOK = authenticate(environment, scope, 'NLFB')"
   ]
  },
  {
   "cell_type": "code",
   "execution_count": 24,
   "metadata": {},
   "outputs": [],
   "source": [
    "month_num_from_name_dict = {name:num for num, name in enumerate(calendar.month_name) if num}"
   ]
  },
  {
   "cell_type": "code",
   "execution_count": 27,
   "metadata": {},
   "outputs": [
    {
     "data": {
      "text/plain": [
       "dict"
      ]
     },
     "execution_count": 27,
     "metadata": {},
     "output_type": "execute_result"
    }
   ],
   "source": [
    "environment = load_environment_variables('.streamlit/secrets.toml')\n",
    "type(environment['connections']['gsheets'])"
   ]
  },
  {
   "cell_type": "code",
   "execution_count": 13,
   "metadata": {},
   "outputs": [
    {
     "data": {
      "text/plain": [
       "'https://www.meetup.com/20-and-30-somethings-book-club-london/'"
      ]
     },
     "execution_count": 13,
     "metadata": {},
     "output_type": "execute_result"
    }
   ],
   "source": [
    "resources_data.filter(pl.col('Resource') == 'Meetup Page')['URL'][0]"
   ]
  },
  {
   "cell_type": "code",
   "execution_count": null,
   "metadata": {},
   "outputs": [
    {
     "data": {
      "text/html": [
       "<div><style>\n",
       ".dataframe > thead > tr,\n",
       ".dataframe > tbody > tr {\n",
       "  text-align: right;\n",
       "  white-space: pre-wrap;\n",
       "}\n",
       "</style>\n",
       "<small>shape: (5, 17)</small><table border=\"1\" class=\"dataframe\"><thead><tr><th>Number</th><th>ISBN</th><th>Month</th><th>Year</th><th>Title</th><th>Score</th><th>Author</th><th>Publisher</th><th>Pages</th><th>Author gender</th><th>Pub year</th><th>Goodreads score</th><th>Our score conversion</th><th>variance</th><th>Debut?</th><th>Translated?</th><th>Topics</th></tr><tr><td>i64</td><td>str</td><td>str</td><td>i64</td><td>str</td><td>f64</td><td>str</td><td>str</td><td>i64</td><td>str</td><td>i64</td><td>f64</td><td>f64</td><td>f64</td><td>str</td><td>str</td><td>str</td></tr></thead><tbody><tr><td>34</td><td>&quot;9780571376483&quot;</td><td>&quot;June&quot;</td><td>2024</td><td>&quot;Demon Copperhead&quot;</td><td>8.192</td><td>&quot;Barbara Kingsolver&quot;</td><td>&quot;Faber &amp; Faber&quot;</td><td>560</td><td>&quot;Female&quot;</td><td>2023</td><td>null</td><td>4.096</td><td>4.096</td><td>&quot;no&quot;</td><td>&quot;no&quot;</td><td>null</td></tr><tr><td>14</td><td>&quot;9781784744649&quot;</td><td>&quot;November&quot;</td><td>2022</td><td>&quot;Tomorrow, and Tomorrow, and To…</td><td>7.84</td><td>&quot;Gabrielle Zevin&quot;</td><td>&quot;Vintage Publishing&quot;</td><td>416</td><td>&quot;Female&quot;</td><td>2022</td><td>4.22</td><td>3.92</td><td>-0.3</td><td>&quot;no&quot;</td><td>&quot;no&quot;</td><td>null</td></tr><tr><td>31</td><td>&quot;9781838930509&quot;</td><td>&quot;March&quot;</td><td>2024</td><td>&quot;Pachinko&quot;</td><td>7.7</td><td>&quot;Min Jin Lee&quot;</td><td>&quot;Bloomsbury Publishing PLC&quot;</td><td>560</td><td>&quot;Female&quot;</td><td>2017</td><td>null</td><td>3.85</td><td>3.85</td><td>&quot;no&quot;</td><td>&quot;no&quot;</td><td>&quot;Romance, Crime, War, Music, Pe…</td></tr><tr><td>22</td><td>&quot;9780008532772&quot;</td><td>&quot;July&quot;</td><td>2023</td><td>&quot;Yellowface&quot;</td><td>7.66</td><td>&quot;Rebecca F. Kuang&quot;</td><td>&quot;HarperCollins Publishers&quot;</td><td>336</td><td>&quot;Female&quot;</td><td>2023</td><td>4.04</td><td>3.83</td><td>-0.21</td><td>&quot;no&quot;</td><td>&quot;no&quot;</td><td>null</td></tr><tr><td>30</td><td>&quot;9781529111798&quot;</td><td>&quot;February&quot;</td><td>2024</td><td>&quot;I who have never known men&quot;</td><td>7.51</td><td>&quot;Jacqueline Harpman&quot;</td><td>&quot;Vintage Publishing&quot;</td><td>208</td><td>&quot;Female&quot;</td><td>1997</td><td>null</td><td>3.755</td><td>3.755</td><td>&quot;no&quot;</td><td>&quot;yes&quot;</td><td>null</td></tr></tbody></table></div>"
      ],
      "text/plain": [
       "shape: (5, 17)\n",
       "┌────────┬───────────────┬──────────┬──────┬───┬──────────┬────────┬─────────────┬─────────────────┐\n",
       "│ Number ┆ ISBN          ┆ Month    ┆ Year ┆ … ┆ variance ┆ Debut? ┆ Translated? ┆ Topics          │\n",
       "│ ---    ┆ ---           ┆ ---      ┆ ---  ┆   ┆ ---      ┆ ---    ┆ ---         ┆ ---             │\n",
       "│ i64    ┆ str           ┆ str      ┆ i64  ┆   ┆ f64      ┆ str    ┆ str         ┆ str             │\n",
       "╞════════╪═══════════════╪══════════╪══════╪═══╪══════════╪════════╪═════════════╪═════════════════╡\n",
       "│ 34     ┆ 9780571376483 ┆ June     ┆ 2024 ┆ … ┆ 4.096    ┆ no     ┆ no          ┆ null            │\n",
       "│ 14     ┆ 9781784744649 ┆ November ┆ 2022 ┆ … ┆ -0.3     ┆ no     ┆ no          ┆ null            │\n",
       "│ 31     ┆ 9781838930509 ┆ March    ┆ 2024 ┆ … ┆ 3.85     ┆ no     ┆ no          ┆ Romance, Crime, │\n",
       "│        ┆               ┆          ┆      ┆   ┆          ┆        ┆             ┆ War, Music, Pe… │\n",
       "│ 22     ┆ 9780008532772 ┆ July     ┆ 2023 ┆ … ┆ -0.21    ┆ no     ┆ no          ┆ null            │\n",
       "│ 30     ┆ 9781529111798 ┆ February ┆ 2024 ┆ … ┆ 3.755    ┆ no     ┆ yes         ┆ null            │\n",
       "└────────┴───────────────┴──────────┴──────┴───┴──────────┴────────┴─────────────┴─────────────────┘"
      ]
     },
     "execution_count": 185,
     "metadata": {},
     "output_type": "execute_result"
    }
   ],
   "source": [
    "df.head()"
   ]
  },
  {
   "cell_type": "code",
   "execution_count": 3,
   "metadata": {},
   "outputs": [],
   "source": [
    "import utils\n",
    "\n",
    "resources_data = utils.load_data('Resources', schema=schemas.resources_schema, workbook=WORKBOOK)\n",
    "meetup_url = resources_data.filter(pl.col('Resource') == 'Meetup Page')['URL'][0]\n",
    "members = utils.get_number_of_members(meetup_url, \"member-count-link\")\n",
    "\n"
   ]
  },
  {
   "cell_type": "code",
   "execution_count": 4,
   "metadata": {},
   "outputs": [
    {
     "name": "stdout",
     "output_type": "stream",
     "text": [
      "5,970 members · Public group\n"
     ]
    }
   ],
   "source": [
    "print(members)"
   ]
  },
  {
   "cell_type": "code",
   "execution_count": 7,
   "metadata": {},
   "outputs": [
    {
     "data": {
      "text/plain": [
       "5970"
      ]
     },
     "execution_count": 7,
     "metadata": {},
     "output_type": "execute_result"
    }
   ],
   "source": [
    "int(members.split(' ')[0].replace(',', ''))"
   ]
  },
  {
   "cell_type": "code",
   "execution_count": 8,
   "metadata": {},
   "outputs": [
    {
     "data": {
      "text/plain": [
       "'5783'"
      ]
     },
     "execution_count": 8,
     "metadata": {},
     "output_type": "execute_result"
    }
   ],
   "source": [
    "'5783'.replace(',', '')"
   ]
  },
  {
   "cell_type": "code",
   "execution_count": null,
   "metadata": {},
   "outputs": [],
   "source": []
  }
 ],
 "metadata": {
  "kernelspec": {
   "display_name": "nlfb",
   "language": "python",
   "name": "python3"
  },
  "language_info": {
   "codemirror_mode": {
    "name": "ipython",
    "version": 3
   },
   "file_extension": ".py",
   "mimetype": "text/x-python",
   "name": "python",
   "nbconvert_exporter": "python",
   "pygments_lexer": "ipython3",
   "version": "3.12.5"
  }
 },
 "nbformat": 4,
 "nbformat_minor": 2
}
